{
 "cells": [
  {
   "cell_type": "markdown",
   "metadata": {},
   "source": [
    "# Solid-Spoon\n",
    "\n",
    "**Author:** Crissy Bruce\n",
    "***"
   ]
  },
  {
   "cell_type": "markdown",
   "metadata": {},
   "source": [
    "## Overview\n",
    "\n",
    "A one-paragraph overview of the project, including the business problem, data, methods, results and recommendations."
   ]
  },
  {
   "cell_type": "markdown",
   "metadata": {},
   "source": [
    "## Business Problem\n",
    "\n",
    "Summary of the business problem you are trying to solve, and the data questions that you plan to answer to solve them.\n",
    "\n",
    "***\n",
    "Questions to consider:\n",
    "* What are the business's pain points related to this project?\n",
    "* How did you pick the data analysis question(s) that you did?\n",
    "* Why are these questions important from a business perspective?\n",
    "***"
   ]
  },
  {
   "cell_type": "markdown",
   "metadata": {},
   "source": [
    "## Data Understanding\n",
    "\n",
    "Describe the data being used for this project.\n",
    "***\n",
    "Questions to consider:\n",
    "* Where did the data come from, and how do they relate to the data analysis questions?\n",
    "* What do the data represent? Who is in the sample and what variables are included?\n",
    "* What is the target variable?\n",
    "* What are the properties of the variables you intend to use?\n",
    "***"
   ]
  },
  {
   "cell_type": "code",
   "execution_count": 1,
   "metadata": {},
   "outputs": [],
   "source": [
    "# Import standard packages\n",
    "import requests\n",
    "import config\n",
    "import json\n",
    "import pandas as pd\n"
   ]
  },
  {
   "cell_type": "code",
   "execution_count": 2,
   "metadata": {},
   "outputs": [],
   "source": [
    "data=pd.read_csv(r'C:\\Users\\owner\\Documents\\Flatiron\\solid-spoon\\solid-spoon\\data1.csv')"
   ]
  },
  {
   "cell_type": "code",
   "execution_count": 3,
   "metadata": {},
   "outputs": [
    {
     "data": {
      "text/plain": [
       "0       [{'id': 11090, 'aisle': 'Produce', 'image': 'b...\n",
       "1       [{'id': 2044, 'aisle': 'Produce;Spices and Sea...\n",
       "2       [{'id': 9040, 'aisle': 'Produce', 'image': 'ba...\n",
       "3       [{'id': 2069, 'aisle': 'Oil, Vinegar, Salad Dr...\n",
       "4       [{'id': 16018, 'aisle': 'Canned and Jarred', '...\n",
       "                              ...                        \n",
       "1595    [{'id': 10111352, 'aisle': 'Frozen', 'image': ...\n",
       "1596    [{'id': 1053, 'aisle': 'Milk, Eggs, Other Dair...\n",
       "1597    [{'id': 2044, 'aisle': 'Produce;Spices and Sea...\n",
       "1598    [{'id': 10123, 'aisle': 'Meat', 'image': 'raw-...\n",
       "1599    [{'id': 20012, 'aisle': 'Pasta and Rice;Ethnic...\n",
       "Name: extendedIngredients, Length: 1600, dtype: object"
      ]
     },
     "execution_count": 3,
     "metadata": {},
     "output_type": "execute_result"
    }
   ],
   "source": [
    "data['extendedIngredients']"
   ]
  },
  {
   "cell_type": "code",
   "execution_count": 4,
   "metadata": {},
   "outputs": [
    {
     "data": {
      "text/plain": [
       "0       False\n",
       "1       False\n",
       "2       False\n",
       "3       False\n",
       "4       False\n",
       "        ...  \n",
       "1595     True\n",
       "1596     True\n",
       "1597     True\n",
       "1598     True\n",
       "1599     True\n",
       "Length: 1600, dtype: bool"
      ]
     },
     "execution_count": 4,
     "metadata": {},
     "output_type": "execute_result"
    }
   ],
   "source": [
    "#check for duplicates\n",
    "data.duplicated(subset=['id'])"
   ]
  },
  {
   "cell_type": "code",
   "execution_count": 5,
   "metadata": {},
   "outputs": [],
   "source": [
    "data=data.drop_duplicates(subset=['id'])"
   ]
  },
  {
   "cell_type": "code",
   "execution_count": 6,
   "metadata": {},
   "outputs": [
    {
     "data": {
      "text/plain": [
       "(1000, 44)"
      ]
     },
     "execution_count": 6,
     "metadata": {},
     "output_type": "execute_result"
    }
   ],
   "source": [
    "data.shape"
   ]
  },
  {
   "cell_type": "code",
   "execution_count": 7,
   "metadata": {},
   "outputs": [
    {
     "data": {
      "text/html": [
       "<div>\n",
       "<style scoped>\n",
       "    .dataframe tbody tr th:only-of-type {\n",
       "        vertical-align: middle;\n",
       "    }\n",
       "\n",
       "    .dataframe tbody tr th {\n",
       "        vertical-align: top;\n",
       "    }\n",
       "\n",
       "    .dataframe thead th {\n",
       "        text-align: right;\n",
       "    }\n",
       "</style>\n",
       "<table border=\"1\" class=\"dataframe\">\n",
       "  <thead>\n",
       "    <tr style=\"text-align: right;\">\n",
       "      <th></th>\n",
       "      <th>Unnamed: 0</th>\n",
       "      <th>vegetarian</th>\n",
       "      <th>vegan</th>\n",
       "      <th>glutenFree</th>\n",
       "      <th>dairyFree</th>\n",
       "      <th>veryHealthy</th>\n",
       "      <th>cheap</th>\n",
       "      <th>veryPopular</th>\n",
       "      <th>sustainable</th>\n",
       "      <th>weightWatcherSmartPoints</th>\n",
       "      <th>...</th>\n",
       "      <th>spoonacularSourceUrl</th>\n",
       "      <th>usedIngredientCount</th>\n",
       "      <th>missedIngredientCount</th>\n",
       "      <th>missedIngredients</th>\n",
       "      <th>likes</th>\n",
       "      <th>usedIngredients</th>\n",
       "      <th>unusedIngredients</th>\n",
       "      <th>preparationMinutes</th>\n",
       "      <th>cookingMinutes</th>\n",
       "      <th>author</th>\n",
       "    </tr>\n",
       "  </thead>\n",
       "  <tbody>\n",
       "    <tr>\n",
       "      <th>0</th>\n",
       "      <td>0</td>\n",
       "      <td>True</td>\n",
       "      <td>True</td>\n",
       "      <td>True</td>\n",
       "      <td>True</td>\n",
       "      <td>True</td>\n",
       "      <td>False</td>\n",
       "      <td>True</td>\n",
       "      <td>False</td>\n",
       "      <td>4</td>\n",
       "      <td>...</td>\n",
       "      <td>https://spoonacular.com/cauliflower-brown-rice...</td>\n",
       "      <td>0</td>\n",
       "      <td>9</td>\n",
       "      <td>[{'id': 11090, 'amount': 2.0, 'unit': 'cups', ...</td>\n",
       "      <td>0</td>\n",
       "      <td>[]</td>\n",
       "      <td>[]</td>\n",
       "      <td>NaN</td>\n",
       "      <td>NaN</td>\n",
       "      <td>NaN</td>\n",
       "    </tr>\n",
       "    <tr>\n",
       "      <th>1</th>\n",
       "      <td>1</td>\n",
       "      <td>True</td>\n",
       "      <td>True</td>\n",
       "      <td>False</td>\n",
       "      <td>True</td>\n",
       "      <td>True</td>\n",
       "      <td>False</td>\n",
       "      <td>True</td>\n",
       "      <td>False</td>\n",
       "      <td>19</td>\n",
       "      <td>...</td>\n",
       "      <td>https://spoonacular.com/homemade-garlic-and-ba...</td>\n",
       "      <td>0</td>\n",
       "      <td>2</td>\n",
       "      <td>[{'id': 2044, 'amount': 0.25, 'unit': 'cup', '...</td>\n",
       "      <td>0</td>\n",
       "      <td>[]</td>\n",
       "      <td>[]</td>\n",
       "      <td>NaN</td>\n",
       "      <td>NaN</td>\n",
       "      <td>NaN</td>\n",
       "    </tr>\n",
       "    <tr>\n",
       "      <th>2</th>\n",
       "      <td>2</td>\n",
       "      <td>True</td>\n",
       "      <td>False</td>\n",
       "      <td>False</td>\n",
       "      <td>False</td>\n",
       "      <td>True</td>\n",
       "      <td>False</td>\n",
       "      <td>True</td>\n",
       "      <td>False</td>\n",
       "      <td>15</td>\n",
       "      <td>...</td>\n",
       "      <td>https://spoonacular.com/berry-banana-breakfast...</td>\n",
       "      <td>0</td>\n",
       "      <td>5</td>\n",
       "      <td>[{'id': 9040, 'amount': 0.25, 'unit': 'cup', '...</td>\n",
       "      <td>0</td>\n",
       "      <td>[]</td>\n",
       "      <td>[]</td>\n",
       "      <td>5.0</td>\n",
       "      <td>0.0</td>\n",
       "      <td>NaN</td>\n",
       "    </tr>\n",
       "    <tr>\n",
       "      <th>3</th>\n",
       "      <td>3</td>\n",
       "      <td>True</td>\n",
       "      <td>True</td>\n",
       "      <td>True</td>\n",
       "      <td>True</td>\n",
       "      <td>True</td>\n",
       "      <td>False</td>\n",
       "      <td>False</td>\n",
       "      <td>False</td>\n",
       "      <td>5</td>\n",
       "      <td>...</td>\n",
       "      <td>https://spoonacular.com/garlicky-kale-644387</td>\n",
       "      <td>0</td>\n",
       "      <td>3</td>\n",
       "      <td>[{'id': 2069, 'amount': 3.0, 'unit': 'tablespo...</td>\n",
       "      <td>0</td>\n",
       "      <td>[]</td>\n",
       "      <td>[]</td>\n",
       "      <td>NaN</td>\n",
       "      <td>NaN</td>\n",
       "      <td>NaN</td>\n",
       "    </tr>\n",
       "    <tr>\n",
       "      <th>4</th>\n",
       "      <td>4</td>\n",
       "      <td>False</td>\n",
       "      <td>False</td>\n",
       "      <td>True</td>\n",
       "      <td>True</td>\n",
       "      <td>True</td>\n",
       "      <td>False</td>\n",
       "      <td>True</td>\n",
       "      <td>False</td>\n",
       "      <td>10</td>\n",
       "      <td>...</td>\n",
       "      <td>https://spoonacular.com/chicken-tortilla-soup-...</td>\n",
       "      <td>0</td>\n",
       "      <td>9</td>\n",
       "      <td>[{'id': 16018, 'amount': 15.0, 'unit': 'oz', '...</td>\n",
       "      <td>0</td>\n",
       "      <td>[]</td>\n",
       "      <td>[]</td>\n",
       "      <td>NaN</td>\n",
       "      <td>NaN</td>\n",
       "      <td>NaN</td>\n",
       "    </tr>\n",
       "  </tbody>\n",
       "</table>\n",
       "<p>5 rows × 44 columns</p>\n",
       "</div>"
      ],
      "text/plain": [
       "   Unnamed: 0  vegetarian  vegan  glutenFree  dairyFree  veryHealthy  cheap  \\\n",
       "0           0        True   True        True       True         True  False   \n",
       "1           1        True   True       False       True         True  False   \n",
       "2           2        True  False       False      False         True  False   \n",
       "3           3        True   True        True       True         True  False   \n",
       "4           4       False  False        True       True         True  False   \n",
       "\n",
       "   veryPopular  sustainable  weightWatcherSmartPoints  ...  \\\n",
       "0         True        False                         4  ...   \n",
       "1         True        False                        19  ...   \n",
       "2         True        False                        15  ...   \n",
       "3        False        False                         5  ...   \n",
       "4         True        False                        10  ...   \n",
       "\n",
       "                                spoonacularSourceUrl  usedIngredientCount  \\\n",
       "0  https://spoonacular.com/cauliflower-brown-rice...                    0   \n",
       "1  https://spoonacular.com/homemade-garlic-and-ba...                    0   \n",
       "2  https://spoonacular.com/berry-banana-breakfast...                    0   \n",
       "3       https://spoonacular.com/garlicky-kale-644387                    0   \n",
       "4  https://spoonacular.com/chicken-tortilla-soup-...                    0   \n",
       "\n",
       "   missedIngredientCount                                  missedIngredients  \\\n",
       "0                      9  [{'id': 11090, 'amount': 2.0, 'unit': 'cups', ...   \n",
       "1                      2  [{'id': 2044, 'amount': 0.25, 'unit': 'cup', '...   \n",
       "2                      5  [{'id': 9040, 'amount': 0.25, 'unit': 'cup', '...   \n",
       "3                      3  [{'id': 2069, 'amount': 3.0, 'unit': 'tablespo...   \n",
       "4                      9  [{'id': 16018, 'amount': 15.0, 'unit': 'oz', '...   \n",
       "\n",
       "   likes usedIngredients unusedIngredients preparationMinutes  cookingMinutes  \\\n",
       "0      0              []                []                NaN             NaN   \n",
       "1      0              []                []                NaN             NaN   \n",
       "2      0              []                []                5.0             0.0   \n",
       "3      0              []                []                NaN             NaN   \n",
       "4      0              []                []                NaN             NaN   \n",
       "\n",
       "  author  \n",
       "0    NaN  \n",
       "1    NaN  \n",
       "2    NaN  \n",
       "3    NaN  \n",
       "4    NaN  \n",
       "\n",
       "[5 rows x 44 columns]"
      ]
     },
     "execution_count": 7,
     "metadata": {},
     "output_type": "execute_result"
    }
   ],
   "source": [
    "data.head()"
   ]
  },
  {
   "cell_type": "code",
   "execution_count": 8,
   "metadata": {},
   "outputs": [
    {
     "data": {
      "text/plain": [
       "['Unnamed: 0',\n",
       " 'vegetarian',\n",
       " 'vegan',\n",
       " 'glutenFree',\n",
       " 'dairyFree',\n",
       " 'veryHealthy',\n",
       " 'cheap',\n",
       " 'veryPopular',\n",
       " 'sustainable',\n",
       " 'weightWatcherSmartPoints',\n",
       " 'gaps',\n",
       " 'lowFodmap',\n",
       " 'aggregateLikes',\n",
       " 'spoonacularScore',\n",
       " 'healthScore',\n",
       " 'creditsText',\n",
       " 'license',\n",
       " 'sourceName',\n",
       " 'pricePerServing',\n",
       " 'extendedIngredients',\n",
       " 'id',\n",
       " 'title',\n",
       " 'readyInMinutes',\n",
       " 'servings',\n",
       " 'sourceUrl',\n",
       " 'image',\n",
       " 'imageType',\n",
       " 'nutrition',\n",
       " 'summary',\n",
       " 'cuisines',\n",
       " 'dishTypes',\n",
       " 'diets',\n",
       " 'occasions',\n",
       " 'analyzedInstructions',\n",
       " 'spoonacularSourceUrl',\n",
       " 'usedIngredientCount',\n",
       " 'missedIngredientCount',\n",
       " 'missedIngredients',\n",
       " 'likes',\n",
       " 'usedIngredients',\n",
       " 'unusedIngredients',\n",
       " 'preparationMinutes',\n",
       " 'cookingMinutes',\n",
       " 'author']"
      ]
     },
     "execution_count": 8,
     "metadata": {},
     "output_type": "execute_result"
    }
   ],
   "source": [
    "list(data.columns)"
   ]
  },
  {
   "cell_type": "markdown",
   "metadata": {},
   "source": [
    "Dropping data that will not be used."
   ]
  },
  {
   "cell_type": "code",
   "execution_count": 9,
   "metadata": {},
   "outputs": [],
   "source": [
    "data=data.drop(columns=['Unnamed: 0',\n",
    " 'vegetarian',\n",
    " 'vegan',\n",
    " 'glutenFree',\n",
    " 'dairyFree',\n",
    " 'veryHealthy',\n",
    " 'cheap',\n",
    " 'veryPopular',\n",
    " 'sustainable',\n",
    " 'weightWatcherSmartPoints',\n",
    " 'gaps',\n",
    " 'lowFodmap',\n",
    " 'creditsText',\n",
    " 'license',\n",
    " 'sourceName',\n",
    " 'readyInMinutes',\n",
    " 'image',\n",
    " 'imageType',\n",
    " 'summary',\n",
    " 'cuisines',\n",
    " 'occasions',\n",
    " 'analyzedInstructions',\n",
    " 'likes',\n",
    " 'preparationMinutes',\n",
    " 'cookingMinutes',\n",
    " 'author'])"
   ]
  },
  {
   "cell_type": "code",
   "execution_count": 10,
   "metadata": {},
   "outputs": [
    {
     "data": {
      "text/html": [
       "<div>\n",
       "<style scoped>\n",
       "    .dataframe tbody tr th:only-of-type {\n",
       "        vertical-align: middle;\n",
       "    }\n",
       "\n",
       "    .dataframe tbody tr th {\n",
       "        vertical-align: top;\n",
       "    }\n",
       "\n",
       "    .dataframe thead th {\n",
       "        text-align: right;\n",
       "    }\n",
       "</style>\n",
       "<table border=\"1\" class=\"dataframe\">\n",
       "  <thead>\n",
       "    <tr style=\"text-align: right;\">\n",
       "      <th></th>\n",
       "      <th>aggregateLikes</th>\n",
       "      <th>spoonacularScore</th>\n",
       "      <th>healthScore</th>\n",
       "      <th>pricePerServing</th>\n",
       "      <th>extendedIngredients</th>\n",
       "      <th>id</th>\n",
       "      <th>title</th>\n",
       "      <th>servings</th>\n",
       "      <th>sourceUrl</th>\n",
       "      <th>nutrition</th>\n",
       "      <th>dishTypes</th>\n",
       "      <th>diets</th>\n",
       "      <th>spoonacularSourceUrl</th>\n",
       "      <th>usedIngredientCount</th>\n",
       "      <th>missedIngredientCount</th>\n",
       "      <th>missedIngredients</th>\n",
       "      <th>usedIngredients</th>\n",
       "      <th>unusedIngredients</th>\n",
       "    </tr>\n",
       "  </thead>\n",
       "  <tbody>\n",
       "    <tr>\n",
       "      <th>0</th>\n",
       "      <td>3689</td>\n",
       "      <td>99.0</td>\n",
       "      <td>76.0</td>\n",
       "      <td>112.39</td>\n",
       "      <td>[{'id': 11090, 'aisle': 'Produce', 'image': 'b...</td>\n",
       "      <td>716426</td>\n",
       "      <td>Cauliflower, Brown Rice, and Vegetable Fried Rice</td>\n",
       "      <td>8</td>\n",
       "      <td>http://fullbellysisters.blogspot.com/2012/01/c...</td>\n",
       "      <td>{'nutrients': [{'name': 'Calories', 'title': '...</td>\n",
       "      <td>['side dish']</td>\n",
       "      <td>['gluten free', 'dairy free', 'lacto ovo veget...</td>\n",
       "      <td>https://spoonacular.com/cauliflower-brown-rice...</td>\n",
       "      <td>0</td>\n",
       "      <td>9</td>\n",
       "      <td>[{'id': 11090, 'amount': 2.0, 'unit': 'cups', ...</td>\n",
       "      <td>[]</td>\n",
       "      <td>[]</td>\n",
       "    </tr>\n",
       "    <tr>\n",
       "      <th>1</th>\n",
       "      <td>1669</td>\n",
       "      <td>99.0</td>\n",
       "      <td>78.0</td>\n",
       "      <td>83.23</td>\n",
       "      <td>[{'id': 2044, 'aisle': 'Produce;Spices and Sea...</td>\n",
       "      <td>715594</td>\n",
       "      <td>Homemade Garlic and Basil French Fries</td>\n",
       "      <td>2</td>\n",
       "      <td>http://www.pinkwhen.com/homemade-french-fries/</td>\n",
       "      <td>{'nutrients': [{'name': 'Calories', 'title': '...</td>\n",
       "      <td>['lunch', 'main course', 'main dish', 'dinner']</td>\n",
       "      <td>['dairy free', 'lacto ovo vegetarian', 'vegan']</td>\n",
       "      <td>https://spoonacular.com/homemade-garlic-and-ba...</td>\n",
       "      <td>0</td>\n",
       "      <td>2</td>\n",
       "      <td>[{'id': 2044, 'amount': 0.25, 'unit': 'cup', '...</td>\n",
       "      <td>[]</td>\n",
       "      <td>[]</td>\n",
       "    </tr>\n",
       "    <tr>\n",
       "      <th>2</th>\n",
       "      <td>689</td>\n",
       "      <td>99.0</td>\n",
       "      <td>63.0</td>\n",
       "      <td>204.29</td>\n",
       "      <td>[{'id': 9040, 'aisle': 'Produce', 'image': 'ba...</td>\n",
       "      <td>715497</td>\n",
       "      <td>Berry Banana Breakfast Smoothie</td>\n",
       "      <td>1</td>\n",
       "      <td>http://www.pinkwhen.com/berry-banana-breakfast...</td>\n",
       "      <td>{'nutrients': [{'name': 'Calories', 'title': '...</td>\n",
       "      <td>['morning meal', 'brunch', 'breakfast']</td>\n",
       "      <td>['lacto ovo vegetarian']</td>\n",
       "      <td>https://spoonacular.com/berry-banana-breakfast...</td>\n",
       "      <td>0</td>\n",
       "      <td>5</td>\n",
       "      <td>[{'id': 9040, 'amount': 0.25, 'unit': 'cup', '...</td>\n",
       "      <td>[]</td>\n",
       "      <td>[]</td>\n",
       "    </tr>\n",
       "    <tr>\n",
       "      <th>3</th>\n",
       "      <td>19</td>\n",
       "      <td>99.0</td>\n",
       "      <td>93.0</td>\n",
       "      <td>69.09</td>\n",
       "      <td>[{'id': 2069, 'aisle': 'Oil, Vinegar, Salad Dr...</td>\n",
       "      <td>644387</td>\n",
       "      <td>Garlicky Kale</td>\n",
       "      <td>2</td>\n",
       "      <td>http://www.foodista.com/recipe/J2FTJBF7/garlic...</td>\n",
       "      <td>{'nutrients': [{'name': 'Calories', 'title': '...</td>\n",
       "      <td>['side dish']</td>\n",
       "      <td>['gluten free', 'dairy free', 'paleolithic', '...</td>\n",
       "      <td>https://spoonacular.com/garlicky-kale-644387</td>\n",
       "      <td>0</td>\n",
       "      <td>3</td>\n",
       "      <td>[{'id': 2069, 'amount': 3.0, 'unit': 'tablespo...</td>\n",
       "      <td>[]</td>\n",
       "      <td>[]</td>\n",
       "    </tr>\n",
       "    <tr>\n",
       "      <th>4</th>\n",
       "      <td>1429</td>\n",
       "      <td>99.0</td>\n",
       "      <td>73.0</td>\n",
       "      <td>339.33</td>\n",
       "      <td>[{'id': 16018, 'aisle': 'Canned and Jarred', '...</td>\n",
       "      <td>715392</td>\n",
       "      <td>Chicken Tortilla Soup (Slow Cooker)</td>\n",
       "      <td>2</td>\n",
       "      <td>http://www.pinkwhen.com/chicken-tortilla-soup-...</td>\n",
       "      <td>{'nutrients': [{'name': 'Calories', 'title': '...</td>\n",
       "      <td>['soup']</td>\n",
       "      <td>['gluten free', 'dairy free']</td>\n",
       "      <td>https://spoonacular.com/chicken-tortilla-soup-...</td>\n",
       "      <td>0</td>\n",
       "      <td>9</td>\n",
       "      <td>[{'id': 16018, 'amount': 15.0, 'unit': 'oz', '...</td>\n",
       "      <td>[]</td>\n",
       "      <td>[]</td>\n",
       "    </tr>\n",
       "    <tr>\n",
       "      <th>...</th>\n",
       "      <td>...</td>\n",
       "      <td>...</td>\n",
       "      <td>...</td>\n",
       "      <td>...</td>\n",
       "      <td>...</td>\n",
       "      <td>...</td>\n",
       "      <td>...</td>\n",
       "      <td>...</td>\n",
       "      <td>...</td>\n",
       "      <td>...</td>\n",
       "      <td>...</td>\n",
       "      <td>...</td>\n",
       "      <td>...</td>\n",
       "      <td>...</td>\n",
       "      <td>...</td>\n",
       "      <td>...</td>\n",
       "      <td>...</td>\n",
       "      <td>...</td>\n",
       "    </tr>\n",
       "    <tr>\n",
       "      <th>995</th>\n",
       "      <td>6</td>\n",
       "      <td>76.0</td>\n",
       "      <td>24.0</td>\n",
       "      <td>111.22</td>\n",
       "      <td>[{'id': 10111352, 'aisle': 'Frozen', 'image': ...</td>\n",
       "      <td>660322</td>\n",
       "      <td>Smashed Fried Lemon Potatoes</td>\n",
       "      <td>4</td>\n",
       "      <td>http://www.foodista.com/recipe/38DN2VQF/smashe...</td>\n",
       "      <td>{'nutrients': [{'name': 'Calories', 'title': '...</td>\n",
       "      <td>['side dish']</td>\n",
       "      <td>['gluten free', 'dairy free', 'lacto ovo veget...</td>\n",
       "      <td>https://spoonacular.com/smashed-fried-lemon-po...</td>\n",
       "      <td>0</td>\n",
       "      <td>8</td>\n",
       "      <td>[{'id': 10111352, 'amount': 1.5, 'unit': 'poun...</td>\n",
       "      <td>[]</td>\n",
       "      <td>[]</td>\n",
       "    </tr>\n",
       "    <tr>\n",
       "      <th>996</th>\n",
       "      <td>0</td>\n",
       "      <td>76.0</td>\n",
       "      <td>46.0</td>\n",
       "      <td>595.06</td>\n",
       "      <td>[{'id': 1053, 'aisle': 'Milk, Eggs, Other Dair...</td>\n",
       "      <td>157081</td>\n",
       "      <td>Omega-3 Creamy Leek Soup</td>\n",
       "      <td>2</td>\n",
       "      <td>http://spoonacular.com/-1381436006147</td>\n",
       "      <td>{'nutrients': [{'name': 'Calories', 'title': '...</td>\n",
       "      <td>['soup']</td>\n",
       "      <td>['gluten free', 'primal', 'pescatarian']</td>\n",
       "      <td>https://spoonacular.com/omega-3-creamy-leek-so...</td>\n",
       "      <td>0</td>\n",
       "      <td>8</td>\n",
       "      <td>[{'id': 1053, 'amount': 250.0, 'unit': 'ml', '...</td>\n",
       "      <td>[]</td>\n",
       "      <td>[]</td>\n",
       "    </tr>\n",
       "    <tr>\n",
       "      <th>997</th>\n",
       "      <td>1</td>\n",
       "      <td>76.0</td>\n",
       "      <td>36.0</td>\n",
       "      <td>242.59</td>\n",
       "      <td>[{'id': 2044, 'aisle': 'Produce;Spices and Sea...</td>\n",
       "      <td>661351</td>\n",
       "      <td>Spinach Soup With Wontons</td>\n",
       "      <td>4</td>\n",
       "      <td>http://www.foodista.com/recipe/VPKSZHYP/spinac...</td>\n",
       "      <td>{'nutrients': [{'name': 'Calories', 'title': '...</td>\n",
       "      <td>['soup']</td>\n",
       "      <td>[]</td>\n",
       "      <td>https://spoonacular.com/spinach-soup-with-wont...</td>\n",
       "      <td>0</td>\n",
       "      <td>8</td>\n",
       "      <td>[{'id': 2044, 'amount': 1.0, 'unit': 'teaspoon...</td>\n",
       "      <td>[]</td>\n",
       "      <td>[]</td>\n",
       "    </tr>\n",
       "    <tr>\n",
       "      <th>998</th>\n",
       "      <td>1</td>\n",
       "      <td>76.0</td>\n",
       "      <td>37.0</td>\n",
       "      <td>363.42</td>\n",
       "      <td>[{'id': 10123, 'aisle': 'Meat', 'image': 'raw-...</td>\n",
       "      <td>658529</td>\n",
       "      <td>Roasted Butternut Squash, Pecan, Bacon, Mix Gr...</td>\n",
       "      <td>4</td>\n",
       "      <td>http://www.foodista.com/recipe/67XP25KK/roaste...</td>\n",
       "      <td>{'nutrients': [{'name': 'Calories', 'title': '...</td>\n",
       "      <td>['salad']</td>\n",
       "      <td>['gluten free', 'dairy free', 'paleolithic', '...</td>\n",
       "      <td>https://spoonacular.com/roasted-butternut-squa...</td>\n",
       "      <td>0</td>\n",
       "      <td>8</td>\n",
       "      <td>[{'id': 10123, 'amount': 5.0, 'unit': 'slices'...</td>\n",
       "      <td>[]</td>\n",
       "      <td>[]</td>\n",
       "    </tr>\n",
       "    <tr>\n",
       "      <th>999</th>\n",
       "      <td>1</td>\n",
       "      <td>76.0</td>\n",
       "      <td>28.0</td>\n",
       "      <td>23.36</td>\n",
       "      <td>[{'id': 20012, 'aisle': 'Pasta and Rice;Ethnic...</td>\n",
       "      <td>661362</td>\n",
       "      <td>Spinach, Sultana and Bulgur Wheat Borek's</td>\n",
       "      <td>22</td>\n",
       "      <td>http://www.foodista.com/recipe/8FH5PCN7/spinac...</td>\n",
       "      <td>{'nutrients': [{'name': 'Calories', 'title': '...</td>\n",
       "      <td>['antipasti', 'starter', 'snack', 'appetizer',...</td>\n",
       "      <td>['dairy free', 'lacto ovo vegetarian', 'vegan']</td>\n",
       "      <td>https://spoonacular.com/spinach-sultana-and-bu...</td>\n",
       "      <td>0</td>\n",
       "      <td>3</td>\n",
       "      <td>[{'id': 20012, 'amount': 100.0, 'unit': 'grams...</td>\n",
       "      <td>[]</td>\n",
       "      <td>[]</td>\n",
       "    </tr>\n",
       "  </tbody>\n",
       "</table>\n",
       "<p>1000 rows × 18 columns</p>\n",
       "</div>"
      ],
      "text/plain": [
       "     aggregateLikes  spoonacularScore  healthScore  pricePerServing  \\\n",
       "0              3689              99.0         76.0           112.39   \n",
       "1              1669              99.0         78.0            83.23   \n",
       "2               689              99.0         63.0           204.29   \n",
       "3                19              99.0         93.0            69.09   \n",
       "4              1429              99.0         73.0           339.33   \n",
       "..              ...               ...          ...              ...   \n",
       "995               6              76.0         24.0           111.22   \n",
       "996               0              76.0         46.0           595.06   \n",
       "997               1              76.0         36.0           242.59   \n",
       "998               1              76.0         37.0           363.42   \n",
       "999               1              76.0         28.0            23.36   \n",
       "\n",
       "                                   extendedIngredients      id  \\\n",
       "0    [{'id': 11090, 'aisle': 'Produce', 'image': 'b...  716426   \n",
       "1    [{'id': 2044, 'aisle': 'Produce;Spices and Sea...  715594   \n",
       "2    [{'id': 9040, 'aisle': 'Produce', 'image': 'ba...  715497   \n",
       "3    [{'id': 2069, 'aisle': 'Oil, Vinegar, Salad Dr...  644387   \n",
       "4    [{'id': 16018, 'aisle': 'Canned and Jarred', '...  715392   \n",
       "..                                                 ...     ...   \n",
       "995  [{'id': 10111352, 'aisle': 'Frozen', 'image': ...  660322   \n",
       "996  [{'id': 1053, 'aisle': 'Milk, Eggs, Other Dair...  157081   \n",
       "997  [{'id': 2044, 'aisle': 'Produce;Spices and Sea...  661351   \n",
       "998  [{'id': 10123, 'aisle': 'Meat', 'image': 'raw-...  658529   \n",
       "999  [{'id': 20012, 'aisle': 'Pasta and Rice;Ethnic...  661362   \n",
       "\n",
       "                                                 title  servings  \\\n",
       "0    Cauliflower, Brown Rice, and Vegetable Fried Rice         8   \n",
       "1               Homemade Garlic and Basil French Fries         2   \n",
       "2                      Berry Banana Breakfast Smoothie         1   \n",
       "3                                        Garlicky Kale         2   \n",
       "4                  Chicken Tortilla Soup (Slow Cooker)         2   \n",
       "..                                                 ...       ...   \n",
       "995                       Smashed Fried Lemon Potatoes         4   \n",
       "996                           Omega-3 Creamy Leek Soup         2   \n",
       "997                          Spinach Soup With Wontons         4   \n",
       "998  Roasted Butternut Squash, Pecan, Bacon, Mix Gr...         4   \n",
       "999          Spinach, Sultana and Bulgur Wheat Borek's        22   \n",
       "\n",
       "                                             sourceUrl  \\\n",
       "0    http://fullbellysisters.blogspot.com/2012/01/c...   \n",
       "1       http://www.pinkwhen.com/homemade-french-fries/   \n",
       "2    http://www.pinkwhen.com/berry-banana-breakfast...   \n",
       "3    http://www.foodista.com/recipe/J2FTJBF7/garlic...   \n",
       "4    http://www.pinkwhen.com/chicken-tortilla-soup-...   \n",
       "..                                                 ...   \n",
       "995  http://www.foodista.com/recipe/38DN2VQF/smashe...   \n",
       "996              http://spoonacular.com/-1381436006147   \n",
       "997  http://www.foodista.com/recipe/VPKSZHYP/spinac...   \n",
       "998  http://www.foodista.com/recipe/67XP25KK/roaste...   \n",
       "999  http://www.foodista.com/recipe/8FH5PCN7/spinac...   \n",
       "\n",
       "                                             nutrition  \\\n",
       "0    {'nutrients': [{'name': 'Calories', 'title': '...   \n",
       "1    {'nutrients': [{'name': 'Calories', 'title': '...   \n",
       "2    {'nutrients': [{'name': 'Calories', 'title': '...   \n",
       "3    {'nutrients': [{'name': 'Calories', 'title': '...   \n",
       "4    {'nutrients': [{'name': 'Calories', 'title': '...   \n",
       "..                                                 ...   \n",
       "995  {'nutrients': [{'name': 'Calories', 'title': '...   \n",
       "996  {'nutrients': [{'name': 'Calories', 'title': '...   \n",
       "997  {'nutrients': [{'name': 'Calories', 'title': '...   \n",
       "998  {'nutrients': [{'name': 'Calories', 'title': '...   \n",
       "999  {'nutrients': [{'name': 'Calories', 'title': '...   \n",
       "\n",
       "                                             dishTypes  \\\n",
       "0                                        ['side dish']   \n",
       "1      ['lunch', 'main course', 'main dish', 'dinner']   \n",
       "2              ['morning meal', 'brunch', 'breakfast']   \n",
       "3                                        ['side dish']   \n",
       "4                                             ['soup']   \n",
       "..                                                 ...   \n",
       "995                                      ['side dish']   \n",
       "996                                           ['soup']   \n",
       "997                                           ['soup']   \n",
       "998                                          ['salad']   \n",
       "999  ['antipasti', 'starter', 'snack', 'appetizer',...   \n",
       "\n",
       "                                                 diets  \\\n",
       "0    ['gluten free', 'dairy free', 'lacto ovo veget...   \n",
       "1      ['dairy free', 'lacto ovo vegetarian', 'vegan']   \n",
       "2                             ['lacto ovo vegetarian']   \n",
       "3    ['gluten free', 'dairy free', 'paleolithic', '...   \n",
       "4                        ['gluten free', 'dairy free']   \n",
       "..                                                 ...   \n",
       "995  ['gluten free', 'dairy free', 'lacto ovo veget...   \n",
       "996           ['gluten free', 'primal', 'pescatarian']   \n",
       "997                                                 []   \n",
       "998  ['gluten free', 'dairy free', 'paleolithic', '...   \n",
       "999    ['dairy free', 'lacto ovo vegetarian', 'vegan']   \n",
       "\n",
       "                                  spoonacularSourceUrl  usedIngredientCount  \\\n",
       "0    https://spoonacular.com/cauliflower-brown-rice...                    0   \n",
       "1    https://spoonacular.com/homemade-garlic-and-ba...                    0   \n",
       "2    https://spoonacular.com/berry-banana-breakfast...                    0   \n",
       "3         https://spoonacular.com/garlicky-kale-644387                    0   \n",
       "4    https://spoonacular.com/chicken-tortilla-soup-...                    0   \n",
       "..                                                 ...                  ...   \n",
       "995  https://spoonacular.com/smashed-fried-lemon-po...                    0   \n",
       "996  https://spoonacular.com/omega-3-creamy-leek-so...                    0   \n",
       "997  https://spoonacular.com/spinach-soup-with-wont...                    0   \n",
       "998  https://spoonacular.com/roasted-butternut-squa...                    0   \n",
       "999  https://spoonacular.com/spinach-sultana-and-bu...                    0   \n",
       "\n",
       "     missedIngredientCount                                  missedIngredients  \\\n",
       "0                        9  [{'id': 11090, 'amount': 2.0, 'unit': 'cups', ...   \n",
       "1                        2  [{'id': 2044, 'amount': 0.25, 'unit': 'cup', '...   \n",
       "2                        5  [{'id': 9040, 'amount': 0.25, 'unit': 'cup', '...   \n",
       "3                        3  [{'id': 2069, 'amount': 3.0, 'unit': 'tablespo...   \n",
       "4                        9  [{'id': 16018, 'amount': 15.0, 'unit': 'oz', '...   \n",
       "..                     ...                                                ...   \n",
       "995                      8  [{'id': 10111352, 'amount': 1.5, 'unit': 'poun...   \n",
       "996                      8  [{'id': 1053, 'amount': 250.0, 'unit': 'ml', '...   \n",
       "997                      8  [{'id': 2044, 'amount': 1.0, 'unit': 'teaspoon...   \n",
       "998                      8  [{'id': 10123, 'amount': 5.0, 'unit': 'slices'...   \n",
       "999                      3  [{'id': 20012, 'amount': 100.0, 'unit': 'grams...   \n",
       "\n",
       "    usedIngredients unusedIngredients  \n",
       "0                []                []  \n",
       "1                []                []  \n",
       "2                []                []  \n",
       "3                []                []  \n",
       "4                []                []  \n",
       "..              ...               ...  \n",
       "995              []                []  \n",
       "996              []                []  \n",
       "997              []                []  \n",
       "998              []                []  \n",
       "999              []                []  \n",
       "\n",
       "[1000 rows x 18 columns]"
      ]
     },
     "execution_count": 10,
     "metadata": {},
     "output_type": "execute_result"
    }
   ],
   "source": [
    "data"
   ]
  },
  {
   "cell_type": "code",
   "execution_count": 11,
   "metadata": {},
   "outputs": [
    {
     "data": {
      "text/plain": [
       "0"
      ]
     },
     "execution_count": 11,
     "metadata": {},
     "output_type": "execute_result"
    }
   ],
   "source": [
    "data.isnull().sum().sum()"
   ]
  },
  {
   "cell_type": "code",
   "execution_count": 12,
   "metadata": {},
   "outputs": [
    {
     "data": {
      "text/plain": [
       "aggregateLikes           0\n",
       "spoonacularScore         0\n",
       "healthScore              0\n",
       "pricePerServing          0\n",
       "extendedIngredients      0\n",
       "id                       0\n",
       "title                    0\n",
       "servings                 0\n",
       "sourceUrl                0\n",
       "nutrition                0\n",
       "dishTypes                0\n",
       "diets                    0\n",
       "spoonacularSourceUrl     0\n",
       "usedIngredientCount      0\n",
       "missedIngredientCount    0\n",
       "missedIngredients        0\n",
       "usedIngredients          0\n",
       "unusedIngredients        0\n",
       "dtype: int64"
      ]
     },
     "execution_count": 12,
     "metadata": {},
     "output_type": "execute_result"
    }
   ],
   "source": [
    "data.isna().sum()"
   ]
  },
  {
   "cell_type": "markdown",
   "metadata": {},
   "source": [
    "## EDA\n",
    "Time to explore the data to better understand the dataset."
   ]
  },
  {
   "cell_type": "code",
   "execution_count": 13,
   "metadata": {},
   "outputs": [
    {
     "data": {
      "text/html": [
       "<div>\n",
       "<style scoped>\n",
       "    .dataframe tbody tr th:only-of-type {\n",
       "        vertical-align: middle;\n",
       "    }\n",
       "\n",
       "    .dataframe tbody tr th {\n",
       "        vertical-align: top;\n",
       "    }\n",
       "\n",
       "    .dataframe thead th {\n",
       "        text-align: right;\n",
       "    }\n",
       "</style>\n",
       "<table border=\"1\" class=\"dataframe\">\n",
       "  <thead>\n",
       "    <tr style=\"text-align: right;\">\n",
       "      <th></th>\n",
       "      <th>aggregateLikes</th>\n",
       "      <th>spoonacularScore</th>\n",
       "      <th>healthScore</th>\n",
       "      <th>pricePerServing</th>\n",
       "      <th>extendedIngredients</th>\n",
       "      <th>id</th>\n",
       "      <th>title</th>\n",
       "      <th>servings</th>\n",
       "      <th>sourceUrl</th>\n",
       "      <th>nutrition</th>\n",
       "      <th>dishTypes</th>\n",
       "      <th>diets</th>\n",
       "      <th>spoonacularSourceUrl</th>\n",
       "      <th>usedIngredientCount</th>\n",
       "      <th>missedIngredientCount</th>\n",
       "      <th>missedIngredients</th>\n",
       "      <th>usedIngredients</th>\n",
       "      <th>unusedIngredients</th>\n",
       "    </tr>\n",
       "  </thead>\n",
       "  <tbody>\n",
       "    <tr>\n",
       "      <th>0</th>\n",
       "      <td>3689</td>\n",
       "      <td>99.0</td>\n",
       "      <td>76.0</td>\n",
       "      <td>112.39</td>\n",
       "      <td>[{'id': 11090, 'aisle': 'Produce', 'image': 'b...</td>\n",
       "      <td>716426</td>\n",
       "      <td>Cauliflower, Brown Rice, and Vegetable Fried Rice</td>\n",
       "      <td>8</td>\n",
       "      <td>http://fullbellysisters.blogspot.com/2012/01/c...</td>\n",
       "      <td>{'nutrients': [{'name': 'Calories', 'title': '...</td>\n",
       "      <td>['side dish']</td>\n",
       "      <td>['gluten free', 'dairy free', 'lacto ovo veget...</td>\n",
       "      <td>https://spoonacular.com/cauliflower-brown-rice...</td>\n",
       "      <td>0</td>\n",
       "      <td>9</td>\n",
       "      <td>[{'id': 11090, 'amount': 2.0, 'unit': 'cups', ...</td>\n",
       "      <td>[]</td>\n",
       "      <td>[]</td>\n",
       "    </tr>\n",
       "    <tr>\n",
       "      <th>1</th>\n",
       "      <td>1669</td>\n",
       "      <td>99.0</td>\n",
       "      <td>78.0</td>\n",
       "      <td>83.23</td>\n",
       "      <td>[{'id': 2044, 'aisle': 'Produce;Spices and Sea...</td>\n",
       "      <td>715594</td>\n",
       "      <td>Homemade Garlic and Basil French Fries</td>\n",
       "      <td>2</td>\n",
       "      <td>http://www.pinkwhen.com/homemade-french-fries/</td>\n",
       "      <td>{'nutrients': [{'name': 'Calories', 'title': '...</td>\n",
       "      <td>['lunch', 'main course', 'main dish', 'dinner']</td>\n",
       "      <td>['dairy free', 'lacto ovo vegetarian', 'vegan']</td>\n",
       "      <td>https://spoonacular.com/homemade-garlic-and-ba...</td>\n",
       "      <td>0</td>\n",
       "      <td>2</td>\n",
       "      <td>[{'id': 2044, 'amount': 0.25, 'unit': 'cup', '...</td>\n",
       "      <td>[]</td>\n",
       "      <td>[]</td>\n",
       "    </tr>\n",
       "    <tr>\n",
       "      <th>2</th>\n",
       "      <td>689</td>\n",
       "      <td>99.0</td>\n",
       "      <td>63.0</td>\n",
       "      <td>204.29</td>\n",
       "      <td>[{'id': 9040, 'aisle': 'Produce', 'image': 'ba...</td>\n",
       "      <td>715497</td>\n",
       "      <td>Berry Banana Breakfast Smoothie</td>\n",
       "      <td>1</td>\n",
       "      <td>http://www.pinkwhen.com/berry-banana-breakfast...</td>\n",
       "      <td>{'nutrients': [{'name': 'Calories', 'title': '...</td>\n",
       "      <td>['morning meal', 'brunch', 'breakfast']</td>\n",
       "      <td>['lacto ovo vegetarian']</td>\n",
       "      <td>https://spoonacular.com/berry-banana-breakfast...</td>\n",
       "      <td>0</td>\n",
       "      <td>5</td>\n",
       "      <td>[{'id': 9040, 'amount': 0.25, 'unit': 'cup', '...</td>\n",
       "      <td>[]</td>\n",
       "      <td>[]</td>\n",
       "    </tr>\n",
       "    <tr>\n",
       "      <th>3</th>\n",
       "      <td>19</td>\n",
       "      <td>99.0</td>\n",
       "      <td>93.0</td>\n",
       "      <td>69.09</td>\n",
       "      <td>[{'id': 2069, 'aisle': 'Oil, Vinegar, Salad Dr...</td>\n",
       "      <td>644387</td>\n",
       "      <td>Garlicky Kale</td>\n",
       "      <td>2</td>\n",
       "      <td>http://www.foodista.com/recipe/J2FTJBF7/garlic...</td>\n",
       "      <td>{'nutrients': [{'name': 'Calories', 'title': '...</td>\n",
       "      <td>['side dish']</td>\n",
       "      <td>['gluten free', 'dairy free', 'paleolithic', '...</td>\n",
       "      <td>https://spoonacular.com/garlicky-kale-644387</td>\n",
       "      <td>0</td>\n",
       "      <td>3</td>\n",
       "      <td>[{'id': 2069, 'amount': 3.0, 'unit': 'tablespo...</td>\n",
       "      <td>[]</td>\n",
       "      <td>[]</td>\n",
       "    </tr>\n",
       "    <tr>\n",
       "      <th>4</th>\n",
       "      <td>1429</td>\n",
       "      <td>99.0</td>\n",
       "      <td>73.0</td>\n",
       "      <td>339.33</td>\n",
       "      <td>[{'id': 16018, 'aisle': 'Canned and Jarred', '...</td>\n",
       "      <td>715392</td>\n",
       "      <td>Chicken Tortilla Soup (Slow Cooker)</td>\n",
       "      <td>2</td>\n",
       "      <td>http://www.pinkwhen.com/chicken-tortilla-soup-...</td>\n",
       "      <td>{'nutrients': [{'name': 'Calories', 'title': '...</td>\n",
       "      <td>['soup']</td>\n",
       "      <td>['gluten free', 'dairy free']</td>\n",
       "      <td>https://spoonacular.com/chicken-tortilla-soup-...</td>\n",
       "      <td>0</td>\n",
       "      <td>9</td>\n",
       "      <td>[{'id': 16018, 'amount': 15.0, 'unit': 'oz', '...</td>\n",
       "      <td>[]</td>\n",
       "      <td>[]</td>\n",
       "    </tr>\n",
       "  </tbody>\n",
       "</table>\n",
       "</div>"
      ],
      "text/plain": [
       "   aggregateLikes  spoonacularScore  healthScore  pricePerServing  \\\n",
       "0            3689              99.0         76.0           112.39   \n",
       "1            1669              99.0         78.0            83.23   \n",
       "2             689              99.0         63.0           204.29   \n",
       "3              19              99.0         93.0            69.09   \n",
       "4            1429              99.0         73.0           339.33   \n",
       "\n",
       "                                 extendedIngredients      id  \\\n",
       "0  [{'id': 11090, 'aisle': 'Produce', 'image': 'b...  716426   \n",
       "1  [{'id': 2044, 'aisle': 'Produce;Spices and Sea...  715594   \n",
       "2  [{'id': 9040, 'aisle': 'Produce', 'image': 'ba...  715497   \n",
       "3  [{'id': 2069, 'aisle': 'Oil, Vinegar, Salad Dr...  644387   \n",
       "4  [{'id': 16018, 'aisle': 'Canned and Jarred', '...  715392   \n",
       "\n",
       "                                               title  servings  \\\n",
       "0  Cauliflower, Brown Rice, and Vegetable Fried Rice         8   \n",
       "1             Homemade Garlic and Basil French Fries         2   \n",
       "2                    Berry Banana Breakfast Smoothie         1   \n",
       "3                                      Garlicky Kale         2   \n",
       "4                Chicken Tortilla Soup (Slow Cooker)         2   \n",
       "\n",
       "                                           sourceUrl  \\\n",
       "0  http://fullbellysisters.blogspot.com/2012/01/c...   \n",
       "1     http://www.pinkwhen.com/homemade-french-fries/   \n",
       "2  http://www.pinkwhen.com/berry-banana-breakfast...   \n",
       "3  http://www.foodista.com/recipe/J2FTJBF7/garlic...   \n",
       "4  http://www.pinkwhen.com/chicken-tortilla-soup-...   \n",
       "\n",
       "                                           nutrition  \\\n",
       "0  {'nutrients': [{'name': 'Calories', 'title': '...   \n",
       "1  {'nutrients': [{'name': 'Calories', 'title': '...   \n",
       "2  {'nutrients': [{'name': 'Calories', 'title': '...   \n",
       "3  {'nutrients': [{'name': 'Calories', 'title': '...   \n",
       "4  {'nutrients': [{'name': 'Calories', 'title': '...   \n",
       "\n",
       "                                         dishTypes  \\\n",
       "0                                    ['side dish']   \n",
       "1  ['lunch', 'main course', 'main dish', 'dinner']   \n",
       "2          ['morning meal', 'brunch', 'breakfast']   \n",
       "3                                    ['side dish']   \n",
       "4                                         ['soup']   \n",
       "\n",
       "                                               diets  \\\n",
       "0  ['gluten free', 'dairy free', 'lacto ovo veget...   \n",
       "1    ['dairy free', 'lacto ovo vegetarian', 'vegan']   \n",
       "2                           ['lacto ovo vegetarian']   \n",
       "3  ['gluten free', 'dairy free', 'paleolithic', '...   \n",
       "4                      ['gluten free', 'dairy free']   \n",
       "\n",
       "                                spoonacularSourceUrl  usedIngredientCount  \\\n",
       "0  https://spoonacular.com/cauliflower-brown-rice...                    0   \n",
       "1  https://spoonacular.com/homemade-garlic-and-ba...                    0   \n",
       "2  https://spoonacular.com/berry-banana-breakfast...                    0   \n",
       "3       https://spoonacular.com/garlicky-kale-644387                    0   \n",
       "4  https://spoonacular.com/chicken-tortilla-soup-...                    0   \n",
       "\n",
       "   missedIngredientCount                                  missedIngredients  \\\n",
       "0                      9  [{'id': 11090, 'amount': 2.0, 'unit': 'cups', ...   \n",
       "1                      2  [{'id': 2044, 'amount': 0.25, 'unit': 'cup', '...   \n",
       "2                      5  [{'id': 9040, 'amount': 0.25, 'unit': 'cup', '...   \n",
       "3                      3  [{'id': 2069, 'amount': 3.0, 'unit': 'tablespo...   \n",
       "4                      9  [{'id': 16018, 'amount': 15.0, 'unit': 'oz', '...   \n",
       "\n",
       "  usedIngredients unusedIngredients  \n",
       "0              []                []  \n",
       "1              []                []  \n",
       "2              []                []  \n",
       "3              []                []  \n",
       "4              []                []  "
      ]
     },
     "execution_count": 13,
     "metadata": {},
     "output_type": "execute_result"
    }
   ],
   "source": [
    "data.head()"
   ]
  },
  {
   "cell_type": "code",
   "execution_count": 14,
   "metadata": {},
   "outputs": [],
   "source": [
    "#rearranging columns \n",
    "data = data[['id', 'title', 'servings', 'sourceUrl', 'nutrition', 'dishTypes', 'diets', 'spoonacularSourceUrl', 'usedIngredientCount','missedIngredientCount','missedIngredients', 'usedIngredients', 'unusedIngredients', 'aggregateLikes','spoonacularScore', 'healthScore', 'extendedIngredients', 'pricePerServing']]"
   ]
  },
  {
   "cell_type": "code",
   "execution_count": 15,
   "metadata": {
    "scrolled": true
   },
   "outputs": [
    {
     "data": {
      "text/html": [
       "<div>\n",
       "<style scoped>\n",
       "    .dataframe tbody tr th:only-of-type {\n",
       "        vertical-align: middle;\n",
       "    }\n",
       "\n",
       "    .dataframe tbody tr th {\n",
       "        vertical-align: top;\n",
       "    }\n",
       "\n",
       "    .dataframe thead th {\n",
       "        text-align: right;\n",
       "    }\n",
       "</style>\n",
       "<table border=\"1\" class=\"dataframe\">\n",
       "  <thead>\n",
       "    <tr style=\"text-align: right;\">\n",
       "      <th></th>\n",
       "      <th>id</th>\n",
       "      <th>title</th>\n",
       "      <th>servings</th>\n",
       "      <th>sourceUrl</th>\n",
       "      <th>nutrition</th>\n",
       "      <th>dishTypes</th>\n",
       "      <th>diets</th>\n",
       "      <th>spoonacularSourceUrl</th>\n",
       "      <th>usedIngredientCount</th>\n",
       "      <th>missedIngredientCount</th>\n",
       "      <th>missedIngredients</th>\n",
       "      <th>usedIngredients</th>\n",
       "      <th>unusedIngredients</th>\n",
       "      <th>aggregateLikes</th>\n",
       "      <th>spoonacularScore</th>\n",
       "      <th>healthScore</th>\n",
       "      <th>extendedIngredients</th>\n",
       "      <th>pricePerServing</th>\n",
       "    </tr>\n",
       "  </thead>\n",
       "  <tbody>\n",
       "    <tr>\n",
       "      <th>0</th>\n",
       "      <td>716426</td>\n",
       "      <td>Cauliflower, Brown Rice, and Vegetable Fried Rice</td>\n",
       "      <td>8</td>\n",
       "      <td>http://fullbellysisters.blogspot.com/2012/01/c...</td>\n",
       "      <td>{'nutrients': [{'name': 'Calories', 'title': '...</td>\n",
       "      <td>['side dish']</td>\n",
       "      <td>['gluten free', 'dairy free', 'lacto ovo veget...</td>\n",
       "      <td>https://spoonacular.com/cauliflower-brown-rice...</td>\n",
       "      <td>0</td>\n",
       "      <td>9</td>\n",
       "      <td>[{'id': 11090, 'amount': 2.0, 'unit': 'cups', ...</td>\n",
       "      <td>[]</td>\n",
       "      <td>[]</td>\n",
       "      <td>3689</td>\n",
       "      <td>99.0</td>\n",
       "      <td>76.0</td>\n",
       "      <td>[{'id': 11090, 'aisle': 'Produce', 'image': 'b...</td>\n",
       "      <td>112.39</td>\n",
       "    </tr>\n",
       "    <tr>\n",
       "      <th>1</th>\n",
       "      <td>715594</td>\n",
       "      <td>Homemade Garlic and Basil French Fries</td>\n",
       "      <td>2</td>\n",
       "      <td>http://www.pinkwhen.com/homemade-french-fries/</td>\n",
       "      <td>{'nutrients': [{'name': 'Calories', 'title': '...</td>\n",
       "      <td>['lunch', 'main course', 'main dish', 'dinner']</td>\n",
       "      <td>['dairy free', 'lacto ovo vegetarian', 'vegan']</td>\n",
       "      <td>https://spoonacular.com/homemade-garlic-and-ba...</td>\n",
       "      <td>0</td>\n",
       "      <td>2</td>\n",
       "      <td>[{'id': 2044, 'amount': 0.25, 'unit': 'cup', '...</td>\n",
       "      <td>[]</td>\n",
       "      <td>[]</td>\n",
       "      <td>1669</td>\n",
       "      <td>99.0</td>\n",
       "      <td>78.0</td>\n",
       "      <td>[{'id': 2044, 'aisle': 'Produce;Spices and Sea...</td>\n",
       "      <td>83.23</td>\n",
       "    </tr>\n",
       "    <tr>\n",
       "      <th>2</th>\n",
       "      <td>715497</td>\n",
       "      <td>Berry Banana Breakfast Smoothie</td>\n",
       "      <td>1</td>\n",
       "      <td>http://www.pinkwhen.com/berry-banana-breakfast...</td>\n",
       "      <td>{'nutrients': [{'name': 'Calories', 'title': '...</td>\n",
       "      <td>['morning meal', 'brunch', 'breakfast']</td>\n",
       "      <td>['lacto ovo vegetarian']</td>\n",
       "      <td>https://spoonacular.com/berry-banana-breakfast...</td>\n",
       "      <td>0</td>\n",
       "      <td>5</td>\n",
       "      <td>[{'id': 9040, 'amount': 0.25, 'unit': 'cup', '...</td>\n",
       "      <td>[]</td>\n",
       "      <td>[]</td>\n",
       "      <td>689</td>\n",
       "      <td>99.0</td>\n",
       "      <td>63.0</td>\n",
       "      <td>[{'id': 9040, 'aisle': 'Produce', 'image': 'ba...</td>\n",
       "      <td>204.29</td>\n",
       "    </tr>\n",
       "    <tr>\n",
       "      <th>3</th>\n",
       "      <td>644387</td>\n",
       "      <td>Garlicky Kale</td>\n",
       "      <td>2</td>\n",
       "      <td>http://www.foodista.com/recipe/J2FTJBF7/garlic...</td>\n",
       "      <td>{'nutrients': [{'name': 'Calories', 'title': '...</td>\n",
       "      <td>['side dish']</td>\n",
       "      <td>['gluten free', 'dairy free', 'paleolithic', '...</td>\n",
       "      <td>https://spoonacular.com/garlicky-kale-644387</td>\n",
       "      <td>0</td>\n",
       "      <td>3</td>\n",
       "      <td>[{'id': 2069, 'amount': 3.0, 'unit': 'tablespo...</td>\n",
       "      <td>[]</td>\n",
       "      <td>[]</td>\n",
       "      <td>19</td>\n",
       "      <td>99.0</td>\n",
       "      <td>93.0</td>\n",
       "      <td>[{'id': 2069, 'aisle': 'Oil, Vinegar, Salad Dr...</td>\n",
       "      <td>69.09</td>\n",
       "    </tr>\n",
       "    <tr>\n",
       "      <th>4</th>\n",
       "      <td>715392</td>\n",
       "      <td>Chicken Tortilla Soup (Slow Cooker)</td>\n",
       "      <td>2</td>\n",
       "      <td>http://www.pinkwhen.com/chicken-tortilla-soup-...</td>\n",
       "      <td>{'nutrients': [{'name': 'Calories', 'title': '...</td>\n",
       "      <td>['soup']</td>\n",
       "      <td>['gluten free', 'dairy free']</td>\n",
       "      <td>https://spoonacular.com/chicken-tortilla-soup-...</td>\n",
       "      <td>0</td>\n",
       "      <td>9</td>\n",
       "      <td>[{'id': 16018, 'amount': 15.0, 'unit': 'oz', '...</td>\n",
       "      <td>[]</td>\n",
       "      <td>[]</td>\n",
       "      <td>1429</td>\n",
       "      <td>99.0</td>\n",
       "      <td>73.0</td>\n",
       "      <td>[{'id': 16018, 'aisle': 'Canned and Jarred', '...</td>\n",
       "      <td>339.33</td>\n",
       "    </tr>\n",
       "    <tr>\n",
       "      <th>...</th>\n",
       "      <td>...</td>\n",
       "      <td>...</td>\n",
       "      <td>...</td>\n",
       "      <td>...</td>\n",
       "      <td>...</td>\n",
       "      <td>...</td>\n",
       "      <td>...</td>\n",
       "      <td>...</td>\n",
       "      <td>...</td>\n",
       "      <td>...</td>\n",
       "      <td>...</td>\n",
       "      <td>...</td>\n",
       "      <td>...</td>\n",
       "      <td>...</td>\n",
       "      <td>...</td>\n",
       "      <td>...</td>\n",
       "      <td>...</td>\n",
       "      <td>...</td>\n",
       "    </tr>\n",
       "    <tr>\n",
       "      <th>995</th>\n",
       "      <td>660322</td>\n",
       "      <td>Smashed Fried Lemon Potatoes</td>\n",
       "      <td>4</td>\n",
       "      <td>http://www.foodista.com/recipe/38DN2VQF/smashe...</td>\n",
       "      <td>{'nutrients': [{'name': 'Calories', 'title': '...</td>\n",
       "      <td>['side dish']</td>\n",
       "      <td>['gluten free', 'dairy free', 'lacto ovo veget...</td>\n",
       "      <td>https://spoonacular.com/smashed-fried-lemon-po...</td>\n",
       "      <td>0</td>\n",
       "      <td>8</td>\n",
       "      <td>[{'id': 10111352, 'amount': 1.5, 'unit': 'poun...</td>\n",
       "      <td>[]</td>\n",
       "      <td>[]</td>\n",
       "      <td>6</td>\n",
       "      <td>76.0</td>\n",
       "      <td>24.0</td>\n",
       "      <td>[{'id': 10111352, 'aisle': 'Frozen', 'image': ...</td>\n",
       "      <td>111.22</td>\n",
       "    </tr>\n",
       "    <tr>\n",
       "      <th>996</th>\n",
       "      <td>157081</td>\n",
       "      <td>Omega-3 Creamy Leek Soup</td>\n",
       "      <td>2</td>\n",
       "      <td>http://spoonacular.com/-1381436006147</td>\n",
       "      <td>{'nutrients': [{'name': 'Calories', 'title': '...</td>\n",
       "      <td>['soup']</td>\n",
       "      <td>['gluten free', 'primal', 'pescatarian']</td>\n",
       "      <td>https://spoonacular.com/omega-3-creamy-leek-so...</td>\n",
       "      <td>0</td>\n",
       "      <td>8</td>\n",
       "      <td>[{'id': 1053, 'amount': 250.0, 'unit': 'ml', '...</td>\n",
       "      <td>[]</td>\n",
       "      <td>[]</td>\n",
       "      <td>0</td>\n",
       "      <td>76.0</td>\n",
       "      <td>46.0</td>\n",
       "      <td>[{'id': 1053, 'aisle': 'Milk, Eggs, Other Dair...</td>\n",
       "      <td>595.06</td>\n",
       "    </tr>\n",
       "    <tr>\n",
       "      <th>997</th>\n",
       "      <td>661351</td>\n",
       "      <td>Spinach Soup With Wontons</td>\n",
       "      <td>4</td>\n",
       "      <td>http://www.foodista.com/recipe/VPKSZHYP/spinac...</td>\n",
       "      <td>{'nutrients': [{'name': 'Calories', 'title': '...</td>\n",
       "      <td>['soup']</td>\n",
       "      <td>[]</td>\n",
       "      <td>https://spoonacular.com/spinach-soup-with-wont...</td>\n",
       "      <td>0</td>\n",
       "      <td>8</td>\n",
       "      <td>[{'id': 2044, 'amount': 1.0, 'unit': 'teaspoon...</td>\n",
       "      <td>[]</td>\n",
       "      <td>[]</td>\n",
       "      <td>1</td>\n",
       "      <td>76.0</td>\n",
       "      <td>36.0</td>\n",
       "      <td>[{'id': 2044, 'aisle': 'Produce;Spices and Sea...</td>\n",
       "      <td>242.59</td>\n",
       "    </tr>\n",
       "    <tr>\n",
       "      <th>998</th>\n",
       "      <td>658529</td>\n",
       "      <td>Roasted Butternut Squash, Pecan, Bacon, Mix Gr...</td>\n",
       "      <td>4</td>\n",
       "      <td>http://www.foodista.com/recipe/67XP25KK/roaste...</td>\n",
       "      <td>{'nutrients': [{'name': 'Calories', 'title': '...</td>\n",
       "      <td>['salad']</td>\n",
       "      <td>['gluten free', 'dairy free', 'paleolithic', '...</td>\n",
       "      <td>https://spoonacular.com/roasted-butternut-squa...</td>\n",
       "      <td>0</td>\n",
       "      <td>8</td>\n",
       "      <td>[{'id': 10123, 'amount': 5.0, 'unit': 'slices'...</td>\n",
       "      <td>[]</td>\n",
       "      <td>[]</td>\n",
       "      <td>1</td>\n",
       "      <td>76.0</td>\n",
       "      <td>37.0</td>\n",
       "      <td>[{'id': 10123, 'aisle': 'Meat', 'image': 'raw-...</td>\n",
       "      <td>363.42</td>\n",
       "    </tr>\n",
       "    <tr>\n",
       "      <th>999</th>\n",
       "      <td>661362</td>\n",
       "      <td>Spinach, Sultana and Bulgur Wheat Borek's</td>\n",
       "      <td>22</td>\n",
       "      <td>http://www.foodista.com/recipe/8FH5PCN7/spinac...</td>\n",
       "      <td>{'nutrients': [{'name': 'Calories', 'title': '...</td>\n",
       "      <td>['antipasti', 'starter', 'snack', 'appetizer',...</td>\n",
       "      <td>['dairy free', 'lacto ovo vegetarian', 'vegan']</td>\n",
       "      <td>https://spoonacular.com/spinach-sultana-and-bu...</td>\n",
       "      <td>0</td>\n",
       "      <td>3</td>\n",
       "      <td>[{'id': 20012, 'amount': 100.0, 'unit': 'grams...</td>\n",
       "      <td>[]</td>\n",
       "      <td>[]</td>\n",
       "      <td>1</td>\n",
       "      <td>76.0</td>\n",
       "      <td>28.0</td>\n",
       "      <td>[{'id': 20012, 'aisle': 'Pasta and Rice;Ethnic...</td>\n",
       "      <td>23.36</td>\n",
       "    </tr>\n",
       "  </tbody>\n",
       "</table>\n",
       "<p>1000 rows × 18 columns</p>\n",
       "</div>"
      ],
      "text/plain": [
       "         id                                              title  servings  \\\n",
       "0    716426  Cauliflower, Brown Rice, and Vegetable Fried Rice         8   \n",
       "1    715594             Homemade Garlic and Basil French Fries         2   \n",
       "2    715497                    Berry Banana Breakfast Smoothie         1   \n",
       "3    644387                                      Garlicky Kale         2   \n",
       "4    715392                Chicken Tortilla Soup (Slow Cooker)         2   \n",
       "..      ...                                                ...       ...   \n",
       "995  660322                       Smashed Fried Lemon Potatoes         4   \n",
       "996  157081                           Omega-3 Creamy Leek Soup         2   \n",
       "997  661351                          Spinach Soup With Wontons         4   \n",
       "998  658529  Roasted Butternut Squash, Pecan, Bacon, Mix Gr...         4   \n",
       "999  661362          Spinach, Sultana and Bulgur Wheat Borek's        22   \n",
       "\n",
       "                                             sourceUrl  \\\n",
       "0    http://fullbellysisters.blogspot.com/2012/01/c...   \n",
       "1       http://www.pinkwhen.com/homemade-french-fries/   \n",
       "2    http://www.pinkwhen.com/berry-banana-breakfast...   \n",
       "3    http://www.foodista.com/recipe/J2FTJBF7/garlic...   \n",
       "4    http://www.pinkwhen.com/chicken-tortilla-soup-...   \n",
       "..                                                 ...   \n",
       "995  http://www.foodista.com/recipe/38DN2VQF/smashe...   \n",
       "996              http://spoonacular.com/-1381436006147   \n",
       "997  http://www.foodista.com/recipe/VPKSZHYP/spinac...   \n",
       "998  http://www.foodista.com/recipe/67XP25KK/roaste...   \n",
       "999  http://www.foodista.com/recipe/8FH5PCN7/spinac...   \n",
       "\n",
       "                                             nutrition  \\\n",
       "0    {'nutrients': [{'name': 'Calories', 'title': '...   \n",
       "1    {'nutrients': [{'name': 'Calories', 'title': '...   \n",
       "2    {'nutrients': [{'name': 'Calories', 'title': '...   \n",
       "3    {'nutrients': [{'name': 'Calories', 'title': '...   \n",
       "4    {'nutrients': [{'name': 'Calories', 'title': '...   \n",
       "..                                                 ...   \n",
       "995  {'nutrients': [{'name': 'Calories', 'title': '...   \n",
       "996  {'nutrients': [{'name': 'Calories', 'title': '...   \n",
       "997  {'nutrients': [{'name': 'Calories', 'title': '...   \n",
       "998  {'nutrients': [{'name': 'Calories', 'title': '...   \n",
       "999  {'nutrients': [{'name': 'Calories', 'title': '...   \n",
       "\n",
       "                                             dishTypes  \\\n",
       "0                                        ['side dish']   \n",
       "1      ['lunch', 'main course', 'main dish', 'dinner']   \n",
       "2              ['morning meal', 'brunch', 'breakfast']   \n",
       "3                                        ['side dish']   \n",
       "4                                             ['soup']   \n",
       "..                                                 ...   \n",
       "995                                      ['side dish']   \n",
       "996                                           ['soup']   \n",
       "997                                           ['soup']   \n",
       "998                                          ['salad']   \n",
       "999  ['antipasti', 'starter', 'snack', 'appetizer',...   \n",
       "\n",
       "                                                 diets  \\\n",
       "0    ['gluten free', 'dairy free', 'lacto ovo veget...   \n",
       "1      ['dairy free', 'lacto ovo vegetarian', 'vegan']   \n",
       "2                             ['lacto ovo vegetarian']   \n",
       "3    ['gluten free', 'dairy free', 'paleolithic', '...   \n",
       "4                        ['gluten free', 'dairy free']   \n",
       "..                                                 ...   \n",
       "995  ['gluten free', 'dairy free', 'lacto ovo veget...   \n",
       "996           ['gluten free', 'primal', 'pescatarian']   \n",
       "997                                                 []   \n",
       "998  ['gluten free', 'dairy free', 'paleolithic', '...   \n",
       "999    ['dairy free', 'lacto ovo vegetarian', 'vegan']   \n",
       "\n",
       "                                  spoonacularSourceUrl  usedIngredientCount  \\\n",
       "0    https://spoonacular.com/cauliflower-brown-rice...                    0   \n",
       "1    https://spoonacular.com/homemade-garlic-and-ba...                    0   \n",
       "2    https://spoonacular.com/berry-banana-breakfast...                    0   \n",
       "3         https://spoonacular.com/garlicky-kale-644387                    0   \n",
       "4    https://spoonacular.com/chicken-tortilla-soup-...                    0   \n",
       "..                                                 ...                  ...   \n",
       "995  https://spoonacular.com/smashed-fried-lemon-po...                    0   \n",
       "996  https://spoonacular.com/omega-3-creamy-leek-so...                    0   \n",
       "997  https://spoonacular.com/spinach-soup-with-wont...                    0   \n",
       "998  https://spoonacular.com/roasted-butternut-squa...                    0   \n",
       "999  https://spoonacular.com/spinach-sultana-and-bu...                    0   \n",
       "\n",
       "     missedIngredientCount                                  missedIngredients  \\\n",
       "0                        9  [{'id': 11090, 'amount': 2.0, 'unit': 'cups', ...   \n",
       "1                        2  [{'id': 2044, 'amount': 0.25, 'unit': 'cup', '...   \n",
       "2                        5  [{'id': 9040, 'amount': 0.25, 'unit': 'cup', '...   \n",
       "3                        3  [{'id': 2069, 'amount': 3.0, 'unit': 'tablespo...   \n",
       "4                        9  [{'id': 16018, 'amount': 15.0, 'unit': 'oz', '...   \n",
       "..                     ...                                                ...   \n",
       "995                      8  [{'id': 10111352, 'amount': 1.5, 'unit': 'poun...   \n",
       "996                      8  [{'id': 1053, 'amount': 250.0, 'unit': 'ml', '...   \n",
       "997                      8  [{'id': 2044, 'amount': 1.0, 'unit': 'teaspoon...   \n",
       "998                      8  [{'id': 10123, 'amount': 5.0, 'unit': 'slices'...   \n",
       "999                      3  [{'id': 20012, 'amount': 100.0, 'unit': 'grams...   \n",
       "\n",
       "    usedIngredients unusedIngredients  aggregateLikes  spoonacularScore  \\\n",
       "0                []                []            3689              99.0   \n",
       "1                []                []            1669              99.0   \n",
       "2                []                []             689              99.0   \n",
       "3                []                []              19              99.0   \n",
       "4                []                []            1429              99.0   \n",
       "..              ...               ...             ...               ...   \n",
       "995              []                []               6              76.0   \n",
       "996              []                []               0              76.0   \n",
       "997              []                []               1              76.0   \n",
       "998              []                []               1              76.0   \n",
       "999              []                []               1              76.0   \n",
       "\n",
       "     healthScore                                extendedIngredients  \\\n",
       "0           76.0  [{'id': 11090, 'aisle': 'Produce', 'image': 'b...   \n",
       "1           78.0  [{'id': 2044, 'aisle': 'Produce;Spices and Sea...   \n",
       "2           63.0  [{'id': 9040, 'aisle': 'Produce', 'image': 'ba...   \n",
       "3           93.0  [{'id': 2069, 'aisle': 'Oil, Vinegar, Salad Dr...   \n",
       "4           73.0  [{'id': 16018, 'aisle': 'Canned and Jarred', '...   \n",
       "..           ...                                                ...   \n",
       "995         24.0  [{'id': 10111352, 'aisle': 'Frozen', 'image': ...   \n",
       "996         46.0  [{'id': 1053, 'aisle': 'Milk, Eggs, Other Dair...   \n",
       "997         36.0  [{'id': 2044, 'aisle': 'Produce;Spices and Sea...   \n",
       "998         37.0  [{'id': 10123, 'aisle': 'Meat', 'image': 'raw-...   \n",
       "999         28.0  [{'id': 20012, 'aisle': 'Pasta and Rice;Ethnic...   \n",
       "\n",
       "     pricePerServing  \n",
       "0             112.39  \n",
       "1              83.23  \n",
       "2             204.29  \n",
       "3              69.09  \n",
       "4             339.33  \n",
       "..               ...  \n",
       "995           111.22  \n",
       "996           595.06  \n",
       "997           242.59  \n",
       "998           363.42  \n",
       "999            23.36  \n",
       "\n",
       "[1000 rows x 18 columns]"
      ]
     },
     "execution_count": 15,
     "metadata": {},
     "output_type": "execute_result"
    }
   ],
   "source": [
    "data"
   ]
  },
  {
   "cell_type": "markdown",
   "metadata": {},
   "source": [
    "I need to pull the details from the extendedIngredients column so that there is a single column for each ingredient in order to use the ingredient data in my recommendation model."
   ]
  },
  {
   "cell_type": "code",
   "execution_count": 16,
   "metadata": {},
   "outputs": [
    {
     "data": {
      "text/plain": [
       "0      [{'id': 11090, 'aisle': 'Produce', 'image': 'b...\n",
       "1      [{'id': 2044, 'aisle': 'Produce;Spices and Sea...\n",
       "2      [{'id': 9040, 'aisle': 'Produce', 'image': 'ba...\n",
       "3      [{'id': 2069, 'aisle': 'Oil, Vinegar, Salad Dr...\n",
       "4      [{'id': 16018, 'aisle': 'Canned and Jarred', '...\n",
       "                             ...                        \n",
       "995    [{'id': 10111352, 'aisle': 'Frozen', 'image': ...\n",
       "996    [{'id': 1053, 'aisle': 'Milk, Eggs, Other Dair...\n",
       "997    [{'id': 2044, 'aisle': 'Produce;Spices and Sea...\n",
       "998    [{'id': 10123, 'aisle': 'Meat', 'image': 'raw-...\n",
       "999    [{'id': 20012, 'aisle': 'Pasta and Rice;Ethnic...\n",
       "Name: extendedIngredients, Length: 1000, dtype: object"
      ]
     },
     "execution_count": 16,
     "metadata": {},
     "output_type": "execute_result"
    }
   ],
   "source": [
    "data['extendedIngredients']"
   ]
  },
  {
   "cell_type": "code",
   "execution_count": 17,
   "metadata": {},
   "outputs": [],
   "source": [
    "#accessing the first row of the extendedIngredients data\n",
    "first=data['extendedIngredients'].iloc[0]"
   ]
  },
  {
   "cell_type": "code",
   "execution_count": 18,
   "metadata": {},
   "outputs": [
    {
     "data": {
      "text/plain": [
       "[{'id': 11090,\n",
       "  'aisle': 'Produce',\n",
       "  'image': 'broccoli.jpg',\n",
       "  'consistency': 'solid',\n",
       "  'name': 'broccoli',\n",
       "  'nameClean': 'broccoli',\n",
       "  'original': '2 cups cooked broccoli, chopped small',\n",
       "  'originalString': '2 cups cooked broccoli, chopped small',\n",
       "  'originalName': 'cooked broccoli, chopped small',\n",
       "  'amount': 2.0,\n",
       "  'unit': 'cups',\n",
       "  'meta': ['cooked', 'chopped'],\n",
       "  'metaInformation': ['cooked', 'chopped'],\n",
       "  'measures': {'us': {'amount': 2.0, 'unitShort': 'cups', 'unitLong': 'cups'},\n",
       "   'metric': {'amount': 473.176,\n",
       "    'unitShort': 'ml',\n",
       "    'unitLong': 'milliliters'}}},\n",
       " {'id': 11135,\n",
       "  'aisle': 'Produce',\n",
       "  'image': 'cauliflower.jpg',\n",
       "  'consistency': 'solid',\n",
       "  'name': 'cauliflower',\n",
       "  'nameClean': 'cauliflower',\n",
       "  'original': '1 head of cauliflower, raw',\n",
       "  'originalString': '1 head of cauliflower, raw',\n",
       "  'originalName': 'cauliflower, raw',\n",
       "  'amount': 1.0,\n",
       "  'unit': 'head',\n",
       "  'meta': ['raw'],\n",
       "  'metaInformation': ['raw'],\n",
       "  'measures': {'us': {'amount': 1.0, 'unitShort': 'head', 'unitLong': 'head'},\n",
       "   'metric': {'amount': 1.0, 'unitShort': 'head', 'unitLong': 'head'}}},\n",
       " {'id': 4047,\n",
       "  'aisle': 'Health Foods;Baking',\n",
       "  'image': 'oil-coconut.jpg',\n",
       "  'consistency': 'liquid',\n",
       "  'name': 'coconut oil',\n",
       "  'nameClean': 'coconut oil',\n",
       "  'original': '1 + 1 T coconut oil or butter',\n",
       "  'originalString': '1 + 1 T coconut oil or butter',\n",
       "  'originalName': '1 T coconut oil or butter',\n",
       "  'amount': 1.0,\n",
       "  'unit': '',\n",
       "  'meta': [],\n",
       "  'metaInformation': [],\n",
       "  'measures': {'us': {'amount': 1.0, 'unitShort': '', 'unitLong': ''},\n",
       "   'metric': {'amount': 1.0, 'unitShort': '', 'unitLong': ''}}},\n",
       " {'id': 20041,\n",
       "  'aisle': 'Pasta and Rice',\n",
       "  'image': 'rice-brown-cooked.png',\n",
       "  'consistency': 'solid',\n",
       "  'name': 'cooked brown rice',\n",
       "  'nameClean': 'cooked brown rice',\n",
       "  'original': '3 cups of cooked brown rice, cold',\n",
       "  'originalString': '3 cups of cooked brown rice, cold',\n",
       "  'originalName': 'cooked brown rice, cold',\n",
       "  'amount': 3.0,\n",
       "  'unit': 'cups',\n",
       "  'meta': ['cold', 'cooked'],\n",
       "  'metaInformation': ['cold', 'cooked'],\n",
       "  'measures': {'us': {'amount': 3.0, 'unitShort': 'cups', 'unitLong': 'cups'},\n",
       "   'metric': {'amount': 709.764,\n",
       "    'unitShort': 'ml',\n",
       "    'unitLong': 'milliliters'}}},\n",
       " {'id': 11215,\n",
       "  'aisle': 'Produce',\n",
       "  'image': 'garlic.png',\n",
       "  'consistency': 'solid',\n",
       "  'name': 'garlic',\n",
       "  'nameClean': 'garlic',\n",
       "  'original': '5 cloves of garlic, chopped',\n",
       "  'originalString': '5 cloves of garlic, chopped',\n",
       "  'originalName': 'garlic, chopped',\n",
       "  'amount': 5.0,\n",
       "  'unit': 'cloves',\n",
       "  'meta': ['chopped'],\n",
       "  'metaInformation': ['chopped'],\n",
       "  'measures': {'us': {'amount': 5.0,\n",
       "    'unitShort': 'cloves',\n",
       "    'unitLong': 'cloves'},\n",
       "   'metric': {'amount': 5.0, 'unitShort': 'cloves', 'unitLong': 'cloves'}}},\n",
       " {'id': 4517,\n",
       "  'aisle': 'Oil, Vinegar, Salad Dressing',\n",
       "  'image': 'vegetable-oil.jpg',\n",
       "  'consistency': 'liquid',\n",
       "  'name': 'grapeseed oil',\n",
       "  'nameClean': 'grape seed oil',\n",
       "  'original': '1 + 1 T grapeseed oil',\n",
       "  'originalString': '1 + 1 T grapeseed oil',\n",
       "  'originalName': '1 T grapeseed oil',\n",
       "  'amount': 1.0,\n",
       "  'unit': '',\n",
       "  'meta': [],\n",
       "  'metaInformation': [],\n",
       "  'measures': {'us': {'amount': 1.0, 'unitShort': '', 'unitLong': ''},\n",
       "   'metric': {'amount': 1.0, 'unitShort': '', 'unitLong': ''}}},\n",
       " {'id': 16424,\n",
       "  'aisle': 'Ethnic Foods;Condiments',\n",
       "  'image': 'soy-sauce.jpg',\n",
       "  'consistency': 'liquid',\n",
       "  'name': 'low sodium soy sauce',\n",
       "  'nameClean': 'lower sodium soy sauce',\n",
       "  'original': '3T reduced-sodium soy sauce',\n",
       "  'originalString': '3T reduced-sodium soy sauce',\n",
       "  'originalName': 'reduced-sodium soy sauce',\n",
       "  'amount': 3.0,\n",
       "  'unit': 'T',\n",
       "  'meta': ['reduced-sodium'],\n",
       "  'metaInformation': ['reduced-sodium'],\n",
       "  'measures': {'us': {'amount': 3.0,\n",
       "    'unitShort': 'Tbsps',\n",
       "    'unitLong': 'Tbsps'},\n",
       "   'metric': {'amount': 3.0, 'unitShort': 'Tbsps', 'unitLong': 'Tbsps'}}},\n",
       " {'id': 11304,\n",
       "  'aisle': 'Produce',\n",
       "  'image': 'peas.jpg',\n",
       "  'consistency': 'solid',\n",
       "  'name': 'peas',\n",
       "  'nameClean': 'green peas',\n",
       "  'original': '1 cup frozen peas',\n",
       "  'originalString': '1 cup frozen peas',\n",
       "  'originalName': 'frozen peas',\n",
       "  'amount': 1.0,\n",
       "  'unit': 'cup',\n",
       "  'meta': ['frozen'],\n",
       "  'metaInformation': ['frozen'],\n",
       "  'measures': {'us': {'amount': 1.0, 'unitShort': 'cup', 'unitLong': 'cup'},\n",
       "   'metric': {'amount': 236.588,\n",
       "    'unitShort': 'ml',\n",
       "    'unitLong': 'milliliters'}}},\n",
       " {'id': 2047,\n",
       "  'aisle': 'Spices and Seasonings',\n",
       "  'image': 'salt.jpg',\n",
       "  'consistency': 'solid',\n",
       "  'name': 'salt',\n",
       "  'nameClean': 'salt',\n",
       "  'original': 'salt, to taste',\n",
       "  'originalString': 'salt, to taste',\n",
       "  'originalName': 'salt, to taste',\n",
       "  'amount': 8.0,\n",
       "  'unit': 'servings',\n",
       "  'meta': ['to taste'],\n",
       "  'metaInformation': ['to taste'],\n",
       "  'measures': {'us': {'amount': 8.0,\n",
       "    'unitShort': 'servings',\n",
       "    'unitLong': 'servings'},\n",
       "   'metric': {'amount': 8.0,\n",
       "    'unitShort': 'servings',\n",
       "    'unitLong': 'servings'}}},\n",
       " {'id': 11291,\n",
       "  'aisle': 'Produce',\n",
       "  'image': 'spring-onions.jpg',\n",
       "  'consistency': 'solid',\n",
       "  'name': 'scallion',\n",
       "  'nameClean': 'spring onions',\n",
       "  'original': 'additional chopped scallion tops for garnish',\n",
       "  'originalString': 'additional chopped scallion tops for garnish',\n",
       "  'originalName': 'additional chopped scallion tops for garnish',\n",
       "  'amount': 8.0,\n",
       "  'unit': 'servings',\n",
       "  'meta': ['chopped', 'for garnish'],\n",
       "  'metaInformation': ['chopped', 'for garnish'],\n",
       "  'measures': {'us': {'amount': 8.0,\n",
       "    'unitShort': 'servings',\n",
       "    'unitLong': 'servings'},\n",
       "   'metric': {'amount': 8.0,\n",
       "    'unitShort': 'servings',\n",
       "    'unitLong': 'servings'}}},\n",
       " {'id': 11291,\n",
       "  'aisle': 'Produce',\n",
       "  'image': 'spring-onions.jpg',\n",
       "  'consistency': 'solid',\n",
       "  'name': 'scallions',\n",
       "  'nameClean': 'spring onions',\n",
       "  'original': '7 scallions, chopped (keep white/light green ends separate from dark green tops)',\n",
       "  'originalString': '7 scallions, chopped (keep white/light green ends separate from dark green tops)',\n",
       "  'originalName': 'scallions, chopped (keep white/light green ends separate from dark green tops)',\n",
       "  'amount': 7.0,\n",
       "  'unit': '',\n",
       "  'meta': ['dark',\n",
       "   'green',\n",
       "   'chopped',\n",
       "   '(keep white/light ends separate from tops)'],\n",
       "  'metaInformation': ['dark',\n",
       "   'green',\n",
       "   'chopped',\n",
       "   '(keep white/light ends separate from tops)'],\n",
       "  'measures': {'us': {'amount': 7.0, 'unitShort': '', 'unitLong': ''},\n",
       "   'metric': {'amount': 7.0, 'unitShort': '', 'unitLong': ''}}},\n",
       " {'id': 4058,\n",
       "  'aisle': 'Ethnic Foods',\n",
       "  'image': 'sesame-oil.png',\n",
       "  'consistency': 'liquid',\n",
       "  'name': 'sesame oil',\n",
       "  'nameClean': 'sesame oil',\n",
       "  'original': '2t toasted sesame oil',\n",
       "  'originalString': '2t toasted sesame oil',\n",
       "  'originalName': 'toasted sesame oil',\n",
       "  'amount': 2.0,\n",
       "  'unit': 't',\n",
       "  'meta': ['toasted'],\n",
       "  'metaInformation': ['toasted'],\n",
       "  'measures': {'us': {'amount': 2.0,\n",
       "    'unitShort': 'tsps',\n",
       "    'unitLong': 'teaspoons'},\n",
       "   'metric': {'amount': 2.0, 'unitShort': 'tsps', 'unitLong': 'teaspoons'}}},\n",
       " {'id': 12023,\n",
       "  'aisle': 'Ethnic Foods;Spices and Seasonings',\n",
       "  'image': 'sesame-seeds.png',\n",
       "  'consistency': 'solid',\n",
       "  'name': 'sesame seeds',\n",
       "  'nameClean': 'sesame seeds',\n",
       "  'original': 'toasted sesame seeds, optional',\n",
       "  'originalString': 'toasted sesame seeds, optional',\n",
       "  'originalName': 'toasted sesame seeds, optional',\n",
       "  'amount': 8.0,\n",
       "  'unit': 'servings',\n",
       "  'meta': ['toasted'],\n",
       "  'metaInformation': ['toasted'],\n",
       "  'measures': {'us': {'amount': 8.0,\n",
       "    'unitShort': 'servings',\n",
       "    'unitLong': 'servings'},\n",
       "   'metric': {'amount': 8.0,\n",
       "    'unitShort': 'servings',\n",
       "    'unitLong': 'servings'}}}]"
      ]
     },
     "execution_count": 18,
     "metadata": {},
     "output_type": "execute_result"
    }
   ],
   "source": [
    "#Viewing the first row of extendedIngredients data\n",
    "eval(first)"
   ]
  },
  {
   "cell_type": "code",
   "execution_count": 19,
   "metadata": {},
   "outputs": [],
   "source": [
    "#creating a function that lists all the ingredient names of the first recipe\n",
    "def ingnames(text):\n",
    "    ingnames=[]\n",
    "    ingredientsnamelist=eval(text)\n",
    "    for item in ingredientsnamelist:\n",
    "        ingnames.append(item['nameClean'])\n",
    "    return ingnames"
   ]
  },
  {
   "cell_type": "code",
   "execution_count": 20,
   "metadata": {},
   "outputs": [
    {
     "data": {
      "text/plain": [
       "['broccoli',\n",
       " 'cauliflower',\n",
       " 'coconut oil',\n",
       " 'cooked brown rice',\n",
       " 'garlic',\n",
       " 'grape seed oil',\n",
       " 'lower sodium soy sauce',\n",
       " 'green peas',\n",
       " 'salt',\n",
       " 'spring onions',\n",
       " 'spring onions',\n",
       " 'sesame oil',\n",
       " 'sesame seeds']"
      ]
     },
     "execution_count": 20,
     "metadata": {},
     "output_type": "execute_result"
    }
   ],
   "source": [
    "ingnames(first)"
   ]
  },
  {
   "cell_type": "code",
   "execution_count": 22,
   "metadata": {},
   "outputs": [],
   "source": [
    "#As show above, there are duplicate ingreds within the same recipe.  After viewing the data in detail, it appears to be different applications for each of the duplicate ingredients"
   ]
  },
  {
   "cell_type": "code",
   "execution_count": 23,
   "metadata": {},
   "outputs": [
    {
     "name": "stderr",
     "output_type": "stream",
     "text": [
      "C:\\Users\\owner\\anaconda3\\envs\\learn-env\\lib\\site-packages\\ipykernel_launcher.py:2: SettingWithCopyWarning: \n",
      "A value is trying to be set on a copy of a slice from a DataFrame.\n",
      "Try using .loc[row_indexer,col_indexer] = value instead\n",
      "\n",
      "See the caveats in the documentation: https://pandas.pydata.org/pandas-docs/stable/user_guide/indexing.html#returning-a-view-versus-a-copy\n",
      "  \n"
     ]
    }
   ],
   "source": [
    "#creating lambda function that stores all the ingredient names as a data point\n",
    "data['ingredname'] = data['extendedIngredients'].map(lambda x: ingnames(x))"
   ]
  },
  {
   "cell_type": "code",
   "execution_count": 24,
   "metadata": {},
   "outputs": [
    {
     "data": {
      "text/plain": [
       "0      [broccoli, cauliflower, coconut oil, cooked br...\n",
       "1      [basil, wheat flour, garlic powder, garlic sal...\n",
       "2      [banana, graham cracker crumbs, soymilk, straw...\n",
       "3            [balsamic vinegar, garlic, kale, olive oil]\n",
       "4      [canned black beans, canned green chiles, cann...\n",
       "                             ...                        \n",
       "995    [fingerling potato, parsley, fresh rosemary, t...\n",
       "996    [cream, dill, lemon juice, leek, green peas, s...\n",
       "997    [basil, chicken broth, chili sauce, frozen spi...\n",
       "998    [bacon, ground black pepper, butternut squash,...\n",
       "999    [bulgur, wheat flour, olive oil, salt, salt an...\n",
       "Name: ingredname, Length: 1000, dtype: object"
      ]
     },
     "execution_count": 24,
     "metadata": {},
     "output_type": "execute_result"
    }
   ],
   "source": [
    "#View new ingredname column data\n",
    "data['ingredname']"
   ]
  },
  {
   "cell_type": "code",
   "execution_count": null,
   "metadata": {},
   "outputs": [],
   "source": [
    "#applying Python str to the ingredients column\n",
    "#data['ingredname']=data['ingredname'].apply(str)"
   ]
  },
  {
   "cell_type": "code",
   "execution_count": 25,
   "metadata": {},
   "outputs": [
    {
     "data": {
      "text/plain": [
       "<pandas.core.indexing._iLocIndexer at 0x242300c2e08>"
      ]
     },
     "execution_count": 25,
     "metadata": {},
     "output_type": "execute_result"
    }
   ],
   "source": [
    "data[['ingredname']].iloc"
   ]
  },
  {
   "cell_type": "code",
   "execution_count": 26,
   "metadata": {},
   "outputs": [
    {
     "data": {
      "text/plain": [
       "['cabbage',\n",
       " 'red cabbage',\n",
       " 'carrot',\n",
       " 'black sesame seeds',\n",
       " 'yellow onion',\n",
       " 'olive oil',\n",
       " 'lemon juice',\n",
       " 'agave',\n",
       " 'tahini',\n",
       " 'water',\n",
       " 'salt']"
      ]
     },
     "execution_count": 26,
     "metadata": {},
     "output_type": "execute_result"
    }
   ],
   "source": [
    "#Checking out the list of ingredients for the first recipe\n",
    "data['ingredname'].iloc[629]"
   ]
  },
  {
   "cell_type": "code",
   "execution_count": 27,
   "metadata": {},
   "outputs": [
    {
     "data": {
      "text/plain": [
       "1064"
      ]
     },
     "execution_count": 27,
     "metadata": {},
     "output_type": "execute_result"
    }
   ],
   "source": [
    "#Obtaining a list of all ingredients in the 'ingredname' column\n",
    "total_ingreds = set()\n",
    "for comment in data['ingredname']:\n",
    "    total_ingreds.update(comment)\n",
    "len(total_ingreds)"
   ]
  },
  {
   "cell_type": "code",
   "execution_count": 28,
   "metadata": {},
   "outputs": [],
   "source": [
    "import nltk\n",
    "from nltk.corpus import stopwords\n",
    "import string\n",
    "from nltk import word_tokenize, FreqDist\n",
    "from sklearn.feature_extraction.text import TfidfVectorizer\n",
    "from sklearn.metrics import accuracy_score\n",
    "from sklearn.datasets import fetch_20newsgroups\n",
    "from sklearn.ensemble import RandomForestClassifier\n",
    "from sklearn.naive_bayes import MultinomialNB\n",
    "import pandas as pd\n",
    "import numpy as np\n",
    "np.random.seed(0)"
   ]
  },
  {
   "cell_type": "code",
   "execution_count": 29,
   "metadata": {},
   "outputs": [
    {
     "name": "stdout",
     "output_type": "stream",
     "text": [
      "['broccoli', 'cauliflower', 'coconut oil', 'cooked brown rice', 'garlic', 'grape seed oil', 'lower sodium soy sauce', 'green peas', 'salt', 'spring onions', 'spring onions', 'sesame oil', 'sesame seeds']\n",
      "<class 'list'>\n"
     ]
    }
   ],
   "source": [
    "for x in data['ingredname']:\n",
    "    print(x)\n",
    "    print(type(x))\n",
    "    break"
   ]
  },
  {
   "cell_type": "code",
   "execution_count": 30,
   "metadata": {},
   "outputs": [],
   "source": [
    "#exploring the data with frequency distributions\n",
    "ingreds_concat=[]\n",
    "for ingreds in data['ingredname']:\n",
    "    ingreds_concat +=ingreds"
   ]
  },
  {
   "cell_type": "code",
   "execution_count": 31,
   "metadata": {},
   "outputs": [
    {
     "data": {
      "text/plain": [
       "[('garlic', 511),\n",
       " ('olive oil', 434),\n",
       " ('salt', 345),\n",
       " ('onion', 295),\n",
       " ('salt and pepper', 233),\n",
       " ('ground black pepper', 227),\n",
       " ('water', 195),\n",
       " ('parsley', 174),\n",
       " ('lemon juice', 165),\n",
       " ('carrot', 163),\n",
       " ('bell pepper', 157),\n",
       " ('tomato', 129),\n",
       " ('spring onions', 128),\n",
       " (None, 124),\n",
       " ('fresh cilantro', 114),\n",
       " ('cumin', 106),\n",
       " ('red pepper', 103),\n",
       " ('red onion', 102),\n",
       " ('parmesan', 90),\n",
       " ('ginger', 89),\n",
       " ('extra virgin olive oil', 89),\n",
       " ('wheat flour', 88),\n",
       " ('basil', 87),\n",
       " ('red pepper flakes', 86),\n",
       " ('sea salt', 76),\n",
       " ('lime juice', 75),\n",
       " ('oregano', 73),\n",
       " ('hass avocado', 71),\n",
       " ('egg', 67),\n",
       " ('bay leaves', 67),\n",
       " ('canned tomatoes', 63),\n",
       " ('honey', 63),\n",
       " ('spinach', 63),\n",
       " ('mushrooms', 63),\n",
       " ('coarse kosher salt', 62),\n",
       " ('sugar', 61),\n",
       " ('butter', 60),\n",
       " ('thyme', 59),\n",
       " ('soy sauce', 58),\n",
       " ('vegetable oil', 57),\n",
       " ('zucchini', 56),\n",
       " ('garlic powder', 55),\n",
       " ('cooking oil', 54),\n",
       " ('chili powder', 54),\n",
       " ('ground cayenne pepper', 53),\n",
       " ('shallot', 52),\n",
       " ('boneless chicken breast', 48),\n",
       " ('kale', 47),\n",
       " ('lemon', 46),\n",
       " ('chicken broth', 45),\n",
       " ('celery', 45),\n",
       " ('yellow onion', 45),\n",
       " ('turmeric', 44),\n",
       " ('balsamic vinegar', 43),\n",
       " ('paprika', 43),\n",
       " ('salmon', 43),\n",
       " ('fresh mint', 43),\n",
       " ('white wine', 41),\n",
       " ('chicken stock', 40),\n",
       " ('broccoli', 38),\n",
       " ('chili pepper', 38),\n",
       " ('jalapeno pepper', 38),\n",
       " ('sesame oil', 37),\n",
       " ('stone ground mustard', 37),\n",
       " ('green peas', 36),\n",
       " ('vegetable stock', 36),\n",
       " ('feta cheese', 36),\n",
       " ('lemon peel', 33),\n",
       " ('cherry tomato', 32),\n",
       " ('cucumber', 32),\n",
       " ('milk', 32),\n",
       " ('green pepper', 31),\n",
       " ('tomato paste', 31),\n",
       " ('golden brown sugar', 31),\n",
       " ('quinoa', 30),\n",
       " ('sesame seeds', 29),\n",
       " ('sweet potato', 29),\n",
       " ('red wine vinegar', 29),\n",
       " ('raw shrimp', 29),\n",
       " ('apple cider vinegar', 29),\n",
       " ('breadcrumbs', 29),\n",
       " ('bacon', 28),\n",
       " ('boneless skinless chicken breast', 26),\n",
       " ('asparagus', 26),\n",
       " ('sour cream', 26),\n",
       " ('leek', 26),\n",
       " ('lime', 25),\n",
       " ('dried thyme', 24),\n",
       " ('almonds', 24),\n",
       " ('walnuts', 24),\n",
       " ('ground coriander', 24),\n",
       " ('cabbage', 24),\n",
       " ('fresh rosemary', 24),\n",
       " ('baby spinach', 24),\n",
       " ('canned black beans', 23),\n",
       " ('sun dried tomatoes', 23),\n",
       " ('butternut squash', 23),\n",
       " ('roma tomato', 23),\n",
       " ('white onion', 23),\n",
       " ('rice vinegar', 23),\n",
       " ('rosemary', 23),\n",
       " ('corn starch', 23),\n",
       " ('eggplant', 22),\n",
       " ('dill', 22),\n",
       " ('green chili pepper', 21),\n",
       " ('pine nuts', 20),\n",
       " ('tahini', 20),\n",
       " ('hot sauce', 20),\n",
       " ('canned chickpeas', 20),\n",
       " ('orange juice', 20),\n",
       " ('romano cheese', 20),\n",
       " ('garam masala', 19),\n",
       " ('yellow pepper', 19),\n",
       " ('goat cheese', 19),\n",
       " ('chives', 19),\n",
       " ('worcestershire sauce', 19),\n",
       " ('fennel bulb', 19),\n",
       " ('dried cilantro', 19),\n",
       " ('cauliflower', 18),\n",
       " ('brown rice', 18),\n",
       " ('rice', 18),\n",
       " ('mango', 18),\n",
       " ('tomato sauce', 18),\n",
       " ('sunflower oil', 18),\n",
       " ('mayonnaise', 18),\n",
       " ('panko', 18),\n",
       " ('strawberries', 17),\n",
       " ('dried basil', 17),\n",
       " ('italian seasoning', 17),\n",
       " ('cinnamon', 17),\n",
       " ('greens', 17),\n",
       " ('crimini mushrooms', 17),\n",
       " ('ice', 16),\n",
       " ('cashews', 16),\n",
       " ('cream', 16),\n",
       " ('legumes', 16),\n",
       " ('nutmeg', 16),\n",
       " ('orange', 16),\n",
       " ('cumin seeds', 16),\n",
       " ('ground turkey', 16),\n",
       " ('fish sauce', 16),\n",
       " ('low sodium chicken broth', 16),\n",
       " ('ground beef', 16),\n",
       " ('whole chicken', 15),\n",
       " ('beef broth', 15),\n",
       " ('iceberg lettuce', 15),\n",
       " ('curry powder', 15),\n",
       " ('orange pepper', 15),\n",
       " ('chickpeas', 15),\n",
       " ('fresh tarragon', 15),\n",
       " ('ripe olives', 15),\n",
       " ('pasta', 15),\n",
       " ('banana', 14),\n",
       " ('green beans', 14),\n",
       " ('salsa', 14),\n",
       " ('romaine', 14),\n",
       " ('fat free milk', 14),\n",
       " ('arugula', 14),\n",
       " ('unsalted butter', 14),\n",
       " ('onion powder', 14),\n",
       " ('vinegar', 14),\n",
       " ('seasoning', 13),\n",
       " ('sriracha', 13),\n",
       " ('brussels sprouts', 13),\n",
       " ('smoked paprika', 13),\n",
       " ('ginger powder', 13),\n",
       " ('canned chipotle chile', 13),\n",
       " ('maple syrup', 13),\n",
       " ('barbecue sauce', 13),\n",
       " ('tomato puree', 13),\n",
       " ('coconut oil', 12),\n",
       " ('broccoli florets', 12),\n",
       " ('celery sticks', 12),\n",
       " ('cooked long grain rice', 12),\n",
       " ('almond milk', 12),\n",
       " ('shredded cheddar cheese', 12),\n",
       " ('lime peel', 12),\n",
       " ('red cabbage', 12),\n",
       " ('agave', 12),\n",
       " ('peppercorns', 12),\n",
       " ('greek yogurt', 12),\n",
       " ('peppers', 12),\n",
       " ('lower sodium soy sauce', 11),\n",
       " ('plum tomato', 11),\n",
       " ('fish', 11),\n",
       " ('pineapple', 11),\n",
       " ('sunflower seeds', 11),\n",
       " ('apple', 11),\n",
       " ('yeast', 11),\n",
       " ('broth', 11),\n",
       " ('sage', 11),\n",
       " ('corn tortilla', 11),\n",
       " ('curry leaves', 11),\n",
       " ('ketchup', 11),\n",
       " ('grape tomato', 11),\n",
       " ('hoisin sauce', 11),\n",
       " ('spaghetti', 11),\n",
       " ('grape seed oil', 10),\n",
       " ('curry paste', 10),\n",
       " ('shredded mozzarella', 10)]"
      ]
     },
     "execution_count": 31,
     "metadata": {},
     "output_type": "execute_result"
    }
   ],
   "source": [
    "ingreds_freqdist = FreqDist(ingreds_concat)\n",
    "ingreds_freqdist.most_common(200)"
   ]
  },
  {
   "cell_type": "code",
   "execution_count": null,
   "metadata": {},
   "outputs": [],
   "source": [
    "#train test split before vectorization"
   ]
  },
  {
   "cell_type": "code",
   "execution_count": 32,
   "metadata": {},
   "outputs": [],
   "source": [
    "y = data[['pricePerServing']].copy()\n",
    "X = data[['ingredname']].copy()"
   ]
  },
  {
   "cell_type": "code",
   "execution_count": 33,
   "metadata": {
    "scrolled": true
   },
   "outputs": [
    {
     "data": {
      "text/html": [
       "<div>\n",
       "<style scoped>\n",
       "    .dataframe tbody tr th:only-of-type {\n",
       "        vertical-align: middle;\n",
       "    }\n",
       "\n",
       "    .dataframe tbody tr th {\n",
       "        vertical-align: top;\n",
       "    }\n",
       "\n",
       "    .dataframe thead th {\n",
       "        text-align: right;\n",
       "    }\n",
       "</style>\n",
       "<table border=\"1\" class=\"dataframe\">\n",
       "  <thead>\n",
       "    <tr style=\"text-align: right;\">\n",
       "      <th></th>\n",
       "      <th>ingredname</th>\n",
       "      <th>string_ingreds</th>\n",
       "    </tr>\n",
       "  </thead>\n",
       "  <tbody>\n",
       "    <tr>\n",
       "      <th>0</th>\n",
       "      <td>[broccoli, cauliflower, coconut oil, cooked br...</td>\n",
       "      <td>broccoli,cauliflower,coconut oil,cooked brown ...</td>\n",
       "    </tr>\n",
       "    <tr>\n",
       "      <th>1</th>\n",
       "      <td>[basil, wheat flour, garlic powder, garlic sal...</td>\n",
       "      <td>basil,wheat flour,garlic powder,garlic salt,ve...</td>\n",
       "    </tr>\n",
       "    <tr>\n",
       "      <th>2</th>\n",
       "      <td>[banana, graham cracker crumbs, soymilk, straw...</td>\n",
       "      <td>banana,graham cracker crumbs,soymilk,strawberr...</td>\n",
       "    </tr>\n",
       "    <tr>\n",
       "      <th>3</th>\n",
       "      <td>[balsamic vinegar, garlic, kale, olive oil]</td>\n",
       "      <td>balsamic vinegar,garlic,kale,olive oil</td>\n",
       "    </tr>\n",
       "    <tr>\n",
       "      <th>4</th>\n",
       "      <td>[canned black beans, canned green chiles, cann...</td>\n",
       "      <td>canned black beans,canned green chiles,canned ...</td>\n",
       "    </tr>\n",
       "  </tbody>\n",
       "</table>\n",
       "</div>"
      ],
      "text/plain": [
       "                                          ingredname  \\\n",
       "0  [broccoli, cauliflower, coconut oil, cooked br...   \n",
       "1  [basil, wheat flour, garlic powder, garlic sal...   \n",
       "2  [banana, graham cracker crumbs, soymilk, straw...   \n",
       "3        [balsamic vinegar, garlic, kale, olive oil]   \n",
       "4  [canned black beans, canned green chiles, cann...   \n",
       "\n",
       "                                      string_ingreds  \n",
       "0  broccoli,cauliflower,coconut oil,cooked brown ...  \n",
       "1  basil,wheat flour,garlic powder,garlic salt,ve...  \n",
       "2  banana,graham cracker crumbs,soymilk,strawberr...  \n",
       "3             balsamic vinegar,garlic,kale,olive oil  \n",
       "4  canned black beans,canned green chiles,canned ...  "
      ]
     },
     "execution_count": 33,
     "metadata": {},
     "output_type": "execute_result"
    }
   ],
   "source": [
    "string_col_values = []\n",
    "for row in X.values:\n",
    "    true_ingreds = [i for i in row[0] if i]\n",
    "    string_col_values.append(','.join(true_ingreds))\n",
    "X.loc[:, 'string_ingreds'] = string_col_values\n",
    "X.head()"
   ]
  },
  {
   "cell_type": "code",
   "execution_count": 34,
   "metadata": {},
   "outputs": [],
   "source": [
    "from sklearn.model_selection import train_test_split\n",
    "X_train, X_test, y_train, y_test = train_test_split(X['string_ingreds'],y, test_size=.33, random_state=42) "
   ]
  },
  {
   "cell_type": "code",
   "execution_count": 35,
   "metadata": {},
   "outputs": [
    {
     "name": "stdout",
     "output_type": "stream",
     "text": [
      "670 330 670 330\n"
     ]
    }
   ],
   "source": [
    "print(len(X_train), len(X_test), len(y_train), len(y_test))"
   ]
  },
  {
   "cell_type": "code",
   "execution_count": 36,
   "metadata": {},
   "outputs": [
    {
     "data": {
      "text/plain": [
       "703    bacon,olive oil,beef cubes,garlic,onion,thyme,...\n",
       "311    ground black pepper,dill,garlic,lemon juice,le...\n",
       "722    olive oil,garlic,onion,carrot,water,long grain...\n",
       "629    cabbage,red cabbage,carrot,black sesame seeds,...\n",
       "0      broccoli,cauliflower,coconut oil,cooked brown ...\n",
       "                             ...                        \n",
       "106    brown rice flour,golden brown sugar,carrot,gro...\n",
       "270    chickpeas,orange pepper,olive oil spray,olive ...\n",
       "860    butter,corn starch,dried apricots,dried sweete...\n",
       "435    balsamic vinegar,thyme,garlic,ground black pep...\n",
       "102    chicken stock,ice,mango,rice,root vegetable,sc...\n",
       "Name: string_ingreds, Length: 670, dtype: object"
      ]
     },
     "execution_count": 36,
     "metadata": {},
     "output_type": "execute_result"
    }
   ],
   "source": [
    "X_train"
   ]
  },
  {
   "cell_type": "code",
   "execution_count": 37,
   "metadata": {},
   "outputs": [
    {
     "name": "stdout",
     "output_type": "stream",
     "text": [
      "<class 'pandas.core.series.Series'>\n"
     ]
    }
   ],
   "source": [
    "print(type(X_train))"
   ]
  },
  {
   "cell_type": "code",
   "execution_count": 38,
   "metadata": {},
   "outputs": [
    {
     "data": {
      "text/plain": [
       "pandas.core.series.Series"
      ]
     },
     "execution_count": 38,
     "metadata": {},
     "output_type": "execute_result"
    }
   ],
   "source": [
    "type(X_train)"
   ]
  },
  {
   "cell_type": "code",
   "execution_count": 39,
   "metadata": {},
   "outputs": [
    {
     "name": "stdout",
     "output_type": "stream",
     "text": [
      "bacon,olive oil,beef cubes,garlic,onion,thyme,bay leaves,parsley,pearl onion,mushrooms,carrot,red wine,beef broth,wheat flour,salt and pepper\n",
      "<class 'str'>\n"
     ]
    }
   ],
   "source": [
    "for x in X_train:\n",
    "    print(x)\n",
    "    print(type(x))\n",
    "    break"
   ]
  },
  {
   "cell_type": "code",
   "execution_count": 40,
   "metadata": {},
   "outputs": [
    {
     "name": "stdout",
     "output_type": "stream",
     "text": [
      "n\n"
     ]
    }
   ],
   "source": [
    "# this is printing the letters of each word-but why???\n",
    "for each in X_train.values:\n",
    "    # print(each)\n",
    "    for e in each[4]:\n",
    "        print(e)\n",
    "    break"
   ]
  },
  {
   "cell_type": "code",
   "execution_count": 42,
   "metadata": {},
   "outputs": [
    {
     "name": "stderr",
     "output_type": "stream",
     "text": [
      "[nltk_data] Downloading package punkt to\n",
      "[nltk_data]     C:\\Users\\owner\\AppData\\Roaming\\nltk_data...\n",
      "[nltk_data]   Package punkt is already up-to-date!\n"
     ]
    },
    {
     "data": {
      "text/plain": [
       "True"
      ]
     },
     "execution_count": 42,
     "metadata": {},
     "output_type": "execute_result"
    }
   ],
   "source": [
    "import numpy as np\n",
    "from mpl_toolkits.mplot3d import Axes3D\n",
    "import matplotlib.pyplot as plt\n",
    "%matplotlib inline\n",
    "from sklearn.manifold import TSNE\n",
    "from nltk.tokenize import word_tokenize\n",
    "np.random.seed(0)\n",
    "import nltk\n",
    "nltk.download('punkt')\n",
    "\n"
   ]
  },
  {
   "cell_type": "code",
   "execution_count": 47,
   "metadata": {},
   "outputs": [],
   "source": [
    "from sklearn.manifold import TSNE\n",
    "from nltk.tokenize import word_tokenize\n",
    "from sklearn.feature_extraction.text import CountVectorizer"
   ]
  },
  {
   "cell_type": "code",
   "execution_count": 48,
   "metadata": {},
   "outputs": [
    {
     "ename": "NameError",
     "evalue": "name 'count_vectorize' is not defined",
     "output_type": "error",
     "traceback": [
      "\u001b[1;31m---------------------------------------------------------------------------\u001b[0m",
      "\u001b[1;31mNameError\u001b[0m                                 Traceback (most recent call last)",
      "\u001b[1;32m<ipython-input-48-b536a7367edb>\u001b[0m in \u001b[0;36m<module>\u001b[1;34m\u001b[0m\n\u001b[1;32m----> 1\u001b[1;33m \u001b[0mX_train_new\u001b[0m \u001b[1;33m=\u001b[0m \u001b[1;33m[\u001b[0m\u001b[0mcount_vectorize\u001b[0m\u001b[1;33m(\u001b[0m\u001b[0mx\u001b[0m\u001b[1;33m)\u001b[0m \u001b[1;32mfor\u001b[0m \u001b[0mx\u001b[0m \u001b[1;32min\u001b[0m \u001b[0mX_train\u001b[0m\u001b[1;33m]\u001b[0m\u001b[1;33m\u001b[0m\u001b[1;33m\u001b[0m\u001b[0m\n\u001b[0m",
      "\u001b[1;32m<ipython-input-48-b536a7367edb>\u001b[0m in \u001b[0;36m<listcomp>\u001b[1;34m(.0)\u001b[0m\n\u001b[1;32m----> 1\u001b[1;33m \u001b[0mX_train_new\u001b[0m \u001b[1;33m=\u001b[0m \u001b[1;33m[\u001b[0m\u001b[0mcount_vectorize\u001b[0m\u001b[1;33m(\u001b[0m\u001b[0mx\u001b[0m\u001b[1;33m)\u001b[0m \u001b[1;32mfor\u001b[0m \u001b[0mx\u001b[0m \u001b[1;32min\u001b[0m \u001b[0mX_train\u001b[0m\u001b[1;33m]\u001b[0m\u001b[1;33m\u001b[0m\u001b[1;33m\u001b[0m\u001b[0m\n\u001b[0m",
      "\u001b[1;31mNameError\u001b[0m: name 'count_vectorize' is not defined"
     ]
    }
   ],
   "source": [
    "X_train_new = [count_vectorize(x) for x in X_train]"
   ]
  },
  {
   "cell_type": "code",
   "execution_count": null,
   "metadata": {},
   "outputs": [],
   "source": [
    "#exploring the data with frequency distributions\n",
    "ingreds_concat=[]\n",
    "for ingreds in X_train:\n",
    "    ingreds_concat +=ingreds"
   ]
  },
  {
   "cell_type": "code",
   "execution_count": null,
   "metadata": {},
   "outputs": [],
   "source": [
    "ingreds_freqdist = FreqDist(ingreds_concat)\n",
    "ingreds_freqdist.most_common(200)"
   ]
  },
  {
   "cell_type": "code",
   "execution_count": 49,
   "metadata": {},
   "outputs": [
    {
     "ename": "NameError",
     "evalue": "name 'count_vectorize' is not defined",
     "output_type": "error",
     "traceback": [
      "\u001b[1;31m---------------------------------------------------------------------------\u001b[0m",
      "\u001b[1;31mNameError\u001b[0m                                 Traceback (most recent call last)",
      "\u001b[1;32m<ipython-input-49-5335c7b3e85d>\u001b[0m in \u001b[0;36m<module>\u001b[1;34m\u001b[0m\n\u001b[1;32m----> 1\u001b[1;33m \u001b[0mX_train\u001b[0m\u001b[1;33m.\u001b[0m\u001b[0mapply\u001b[0m\u001b[1;33m(\u001b[0m\u001b[0mcount_vectorize\u001b[0m\u001b[1;33m)\u001b[0m\u001b[1;33m\u001b[0m\u001b[1;33m\u001b[0m\u001b[0m\n\u001b[0m",
      "\u001b[1;31mNameError\u001b[0m: name 'count_vectorize' is not defined"
     ]
    }
   ],
   "source": [
    "X_train.apply(count_vectorize)"
   ]
  },
  {
   "cell_type": "code",
   "execution_count": null,
   "metadata": {},
   "outputs": [],
   "source": [
    "#create function to return a count vectorized as a Python dictionary\n",
    "def count_vectorize(X_train, vocab=None):\n",
    "    X_train=X_train.split(',').apply\n",
    "    if vocab:\n",
    "        unique_words = vocab\n",
    "    else:\n",
    "        unique_words = list(X_train)\n",
    "    \n",
    "    X_train_dict = {i:0 for i in unique_words}\n",
    "    \n",
    "    for word in X_train:\n",
    "        X_train_dict[word] += 1\n",
    "    \n",
    "    return X_train_dict\n",
    "\n",
    "test_vectorized = count_vectorize(X_train)\n",
    "print(test_vectorized)"
   ]
  },
  {
   "cell_type": "code",
   "execution_count": null,
   "metadata": {},
   "outputs": [],
   "source": [
    "#confirming that correct information is pulling from the data for the first row\n",
    "eval(first)[0]['id']"
   ]
  },
  {
   "cell_type": "code",
   "execution_count": null,
   "metadata": {},
   "outputs": [],
   "source": [
    "#creating a function that lists all the ingredient ids of the first recipe\n",
    "def ids(text):\n",
    "    ids=[]\n",
    "    ingredientslist=eval(text)\n",
    "    for item in ingredientslist:\n",
    "        ids.append(item['id'])\n",
    "    return ids\n"
   ]
  },
  {
   "cell_type": "code",
   "execution_count": null,
   "metadata": {},
   "outputs": [],
   "source": [
    "#viewing the ingredient ids of the first recipe\n",
    "ids(first)"
   ]
  },
  {
   "cell_type": "code",
   "execution_count": null,
   "metadata": {},
   "outputs": [],
   "source": [
    "#creating lambda function that stores all the ingredient IDs as a data point\n",
    "data['ingredid'] = data['extendedIngredients'].map(lambda x: ids(x))"
   ]
  },
  {
   "cell_type": "code",
   "execution_count": null,
   "metadata": {},
   "outputs": [],
   "source": [
    "#View new ingredid column data\n",
    "data['ingredid']"
   ]
  },
  {
   "cell_type": "code",
   "execution_count": null,
   "metadata": {},
   "outputs": [],
   "source": [
    "#creating functions to create new columns for the rest of the data that was in the original extended ingredients column (aisle, name,original name, amount, unit and meta)\n",
    "def aisle(text):\n",
    "    aisles=[]\n",
    "    ingredientslist=eval(text)\n",
    "    for item in ingredientslist:\n",
    "        aisles.append(item['aisle'])\n",
    "    return aisles"
   ]
  },
  {
   "cell_type": "code",
   "execution_count": null,
   "metadata": {
    "scrolled": true
   },
   "outputs": [],
   "source": [
    "data['aisle'] = data['extendedIngredients'].map(lambda x: aisle(x))"
   ]
  },
  {
   "cell_type": "code",
   "execution_count": null,
   "metadata": {},
   "outputs": [],
   "source": [
    "data['aisle']"
   ]
  },
  {
   "cell_type": "code",
   "execution_count": null,
   "metadata": {},
   "outputs": [],
   "source": [
    "def name(text):\n",
    "    names=[]\n",
    "    ingredientslist=eval(text)\n",
    "    for item in ingredientslist:\n",
    "        names.append(item['name'])\n",
    "    return names"
   ]
  },
  {
   "cell_type": "code",
   "execution_count": null,
   "metadata": {},
   "outputs": [],
   "source": [
    "data['name'] = data['extendedIngredients'].map(lambda x: name(x))"
   ]
  },
  {
   "cell_type": "code",
   "execution_count": null,
   "metadata": {},
   "outputs": [],
   "source": [
    "def originalName(text):\n",
    "    orignames=[]\n",
    "    ingredientslist=eval(text)\n",
    "    for item in ingredientslist:\n",
    "        orignames.append(item['originalName'])\n",
    "    return orignames"
   ]
  },
  {
   "cell_type": "code",
   "execution_count": null,
   "metadata": {},
   "outputs": [],
   "source": [
    "data['originalName'] = data['extendedIngredients'].map(lambda x: originalName(x))"
   ]
  },
  {
   "cell_type": "code",
   "execution_count": null,
   "metadata": {},
   "outputs": [],
   "source": [
    "def amount(text):\n",
    "    amounts=[]\n",
    "    ingredientslist=eval(text)\n",
    "    for item in ingredientslist:\n",
    "        amounts.append(item['amount'])\n",
    "    return amounts"
   ]
  },
  {
   "cell_type": "code",
   "execution_count": null,
   "metadata": {},
   "outputs": [],
   "source": [
    "data['amount'] = data['extendedIngredients'].map(lambda x: amount(x))"
   ]
  },
  {
   "cell_type": "code",
   "execution_count": null,
   "metadata": {},
   "outputs": [],
   "source": [
    "def unit(text):\n",
    "    units=[]\n",
    "    ingredientslist=eval(text)\n",
    "    for item in ingredientslist:\n",
    "        units.append(item['unit'])\n",
    "    return units"
   ]
  },
  {
   "cell_type": "code",
   "execution_count": null,
   "metadata": {},
   "outputs": [],
   "source": [
    "data['unit'] = data['extendedIngredients'].map(lambda x: unit(x))"
   ]
  },
  {
   "cell_type": "code",
   "execution_count": null,
   "metadata": {},
   "outputs": [],
   "source": [
    "def meta(text):\n",
    "    metas=[]\n",
    "    ingredientslist=eval(text)\n",
    "    for item in ingredientslist:\n",
    "        metas.append(item['meta'])\n",
    "    return metas"
   ]
  },
  {
   "cell_type": "code",
   "execution_count": null,
   "metadata": {},
   "outputs": [],
   "source": [
    "data['meta'] = data['extendedIngredients'].map(lambda x: meta(x))"
   ]
  },
  {
   "cell_type": "code",
   "execution_count": null,
   "metadata": {
    "scrolled": false
   },
   "outputs": [],
   "source": [
    "#reviewing the changes I made to columns\n",
    "data.head()"
   ]
  },
  {
   "cell_type": "code",
   "execution_count": null,
   "metadata": {},
   "outputs": [],
   "source": [
    "#create dummies of the ingred ids\n",
    "ingred_dummies = pd.get_dummies(data['ingredid'].explode()).sum(level=0)"
   ]
  },
  {
   "cell_type": "code",
   "execution_count": null,
   "metadata": {},
   "outputs": [],
   "source": [
    "#add dummies to df\n",
    "data=pd.concat([data, ingred_dummies], axis=1)"
   ]
  },
  {
   "cell_type": "code",
   "execution_count": null,
   "metadata": {
    "scrolled": true
   },
   "outputs": [],
   "source": [
    "#looking at the new df head\n",
    "data.head()"
   ]
  },
  {
   "cell_type": "code",
   "execution_count": null,
   "metadata": {},
   "outputs": [],
   "source": [
    "#looking at a single row\n",
    "data.iloc[1]"
   ]
  },
  {
   "cell_type": "code",
   "execution_count": null,
   "metadata": {},
   "outputs": [],
   "source": [
    "#for i in data.ingredid:\n",
    "    #print (i)"
   ]
  },
  {
   "cell_type": "code",
   "execution_count": null,
   "metadata": {},
   "outputs": [],
   "source": [
    "#access unique ingredients\n",
    "uniqueingred=data['ingredid'].apply(pd.Series).stack().unique()\n",
    "uniqueingred.sort()"
   ]
  },
  {
   "cell_type": "code",
   "execution_count": null,
   "metadata": {},
   "outputs": [],
   "source": [
    "uniqueingred"
   ]
  },
  {
   "cell_type": "code",
   "execution_count": null,
   "metadata": {},
   "outputs": [],
   "source": [
    "def recipes_per_ingredient(uniqueingred, data):\n",
    "        try:\n",
    "            return data.groupby('id').count()[\"uniqueingred\"].loc[1]\n",
    "        except KeyError:\n",
    "            return None"
   ]
  },
  {
   "cell_type": "code",
   "execution_count": null,
   "metadata": {},
   "outputs": [],
   "source": [
    "ingredient_names = data['ingredid'].apply(pd.Series).stack().unique()"
   ]
  },
  {
   "cell_type": "code",
   "execution_count": null,
   "metadata": {},
   "outputs": [],
   "source": [
    "#determine how many recipes per ingredient to learn if data is imbalanced\n",
    "def count_recipes_per_ingredient(ingredid,data):\n",
    "    try:\n",
    "        return data.groupby(ingredid).count().loc[1]\n",
    "    except Keyerror:\n",
    "        return None"
   ]
  },
  {
   "cell_type": "code",
   "execution_count": null,
   "metadata": {},
   "outputs": [],
   "source": [
    "import matplotlib.pyplot as plt\n",
    "%matplotlib inline"
   ]
  },
  {
   "cell_type": "code",
   "execution_count": null,
   "metadata": {},
   "outputs": [],
   "source": [
    "#looking at the column of one ingredient\n",
    "data[11320420]"
   ]
  },
  {
   "cell_type": "code",
   "execution_count": null,
   "metadata": {},
   "outputs": [],
   "source": [
    "data[11320420].sum()"
   ]
  },
  {
   "cell_type": "code",
   "execution_count": null,
   "metadata": {},
   "outputs": [],
   "source": [
    "data.sum(axis=0)"
   ]
  },
  {
   "cell_type": "code",
   "execution_count": null,
   "metadata": {},
   "outputs": [],
   "source": [
    "data.loc['total']= data.sum()"
   ]
  },
  {
   "cell_type": "code",
   "execution_count": null,
   "metadata": {},
   "outputs": [],
   "source": [
    "#looking at all the column titles\n",
    "for col in data.columns: \n",
    "    print(col)"
   ]
  },
  {
   "cell_type": "code",
   "execution_count": null,
   "metadata": {},
   "outputs": [],
   "source": [
    "data.apply(lambda column: column[1001 : 13811111].sum(),axis=1)"
   ]
  },
  {
   "cell_type": "code",
   "execution_count": null,
   "metadata": {},
   "outputs": [],
   "source": [
    "#selecting subdata to use for the bar chart\n",
    "subdata=data.iloc[1000, 24:]"
   ]
  },
  {
   "cell_type": "code",
   "execution_count": null,
   "metadata": {},
   "outputs": [],
   "source": [
    "#count of recipes per ingredient\n",
    "ax2=subdata.sort_values(ascending=False).plot(\n",
    "    kind='bar', stacked=False)\n",
    "\n",
    "ax2.set_ylabel(\"Count of Recipes\")\n",
    "ax2.set_title(\"Count of Recipes Per Ingredient\")\n",
    "plt.figure(figsize=(5,100))\n",
    "plt.show()"
   ]
  },
  {
   "cell_type": "code",
   "execution_count": null,
   "metadata": {},
   "outputs": [],
   "source": [
    "fig, ax = plt.subplots()\n",
    "fig.set_size_inches(35,15)\n",
    "subdata.sort_values(ascending=False).plot.bar(stacked=False)\n",
    "plt.legend(loc=2, prop={'size': 20})\n",
    "plt.ylabel(\"Count of Recipes\")\n",
    "plt.title(\"Recipes per Unique Ingredient\")\n",
    "plt.show()"
   ]
  },
  {
   "cell_type": "code",
   "execution_count": null,
   "metadata": {},
   "outputs": [],
   "source": [
    "#len(uniqueingred)"
   ]
  },
  {
   "cell_type": "code",
   "execution_count": null,
   "metadata": {},
   "outputs": [],
   "source": [
    "# Here you run your code to explore the data"
   ]
  },
  {
   "cell_type": "markdown",
   "metadata": {},
   "source": [
    "## Data Preparation\n",
    "\n",
    "Describe and justify the process for preparing the data for analysis.\n",
    "\n",
    "***\n",
    "Questions to consider:\n",
    "* Were there variables you dropped or created?\n",
    "* How did you address missing values or outliers?\n",
    "* Why are these choices appropriate given the data and the business problem?\n",
    "***"
   ]
  },
  {
   "cell_type": "code",
   "execution_count": null,
   "metadata": {},
   "outputs": [],
   "source": [
    "# Here you run your code to clean the data"
   ]
  },
  {
   "cell_type": "markdown",
   "metadata": {},
   "source": [
    "## Data Modeling\n",
    "Describe and justify the process for analyzing or modeling the data.\n",
    "\n",
    "***\n",
    "Questions to consider:\n",
    "* How did you analyze or model the data?\n",
    "* How did you iterate on your initial approach to make it better?\n",
    "* Why are these choices appropriate given the data and the business problem?\n",
    "***"
   ]
  },
  {
   "cell_type": "code",
   "execution_count": null,
   "metadata": {},
   "outputs": [],
   "source": [
    "# Here you run your code to model the data\n"
   ]
  },
  {
   "cell_type": "markdown",
   "metadata": {},
   "source": [
    "## Evaluation\n",
    "Evaluate how well your work solves the stated business problem.\n",
    "\n",
    "***\n",
    "Questions to consider:\n",
    "* How do you interpret the results?\n",
    "* How well does your model fit your data? How much better is this than your baseline model?\n",
    "* How confident are you that your results would generalize beyond the data you have?\n",
    "* How confident are you that this model would benefit the business if put into use?\n",
    "***"
   ]
  },
  {
   "cell_type": "markdown",
   "metadata": {},
   "source": [
    "## Conclusions\n",
    "Provide your conclusions about the work you've done, including any limitations or next steps.\n",
    "\n",
    "***\n",
    "Questions to consider:\n",
    "* What would you recommend the business do as a result of this work?\n",
    "* What are some reasons why your analysis might not fully solve the business problem?\n",
    "* What else could you do in the future to improve this project?\n",
    "***"
   ]
  }
 ],
 "metadata": {
  "kernelspec": {
   "display_name": "Python 3",
   "language": "python",
   "name": "python3"
  },
  "language_info": {
   "codemirror_mode": {
    "name": "ipython",
    "version": 3
   },
   "file_extension": ".py",
   "mimetype": "text/x-python",
   "name": "python",
   "nbconvert_exporter": "python",
   "pygments_lexer": "ipython3",
   "version": "3.6.12"
  },
  "varInspector": {
   "cols": {
    "lenName": 16,
    "lenType": 16,
    "lenVar": 40
   },
   "kernels_config": {
    "python": {
     "delete_cmd_postfix": "",
     "delete_cmd_prefix": "del ",
     "library": "var_list.py",
     "varRefreshCmd": "print(var_dic_list())"
    },
    "r": {
     "delete_cmd_postfix": ") ",
     "delete_cmd_prefix": "rm(",
     "library": "var_list.r",
     "varRefreshCmd": "cat(var_dic_list()) "
    }
   },
   "types_to_exclude": [
    "module",
    "function",
    "builtin_function_or_method",
    "instance",
    "_Feature"
   ],
   "window_display": false
  }
 },
 "nbformat": 4,
 "nbformat_minor": 4
}
